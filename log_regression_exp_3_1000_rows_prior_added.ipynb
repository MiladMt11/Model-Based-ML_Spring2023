{
 "cells": [
  {
   "cell_type": "code",
   "execution_count": 73,
   "id": "418d51fa",
   "metadata": {},
   "outputs": [],
   "source": [
    "import pandas as pd\n",
    "import numpy as np\n",
    "import seaborn as sns\n",
    "import matplotlib.pyplot as plt\n",
    "\n",
    "from sklearn import linear_model\n",
    "import torch\n",
    "from scipy.special import softmax \n",
    "from sklearn.preprocessing import StandardScaler\n",
    "\n",
    "import pyro\n",
    "import pyro.distributions as dist\n",
    "from pyro.contrib.autoguide import AutoDiagonalNormal, AutoMultivariateNormal\n",
    "from pyro.infer import MCMC, NUTS, HMC, SVI, Trace_ELBO\n",
    "from pyro.optim import Adam, ClippedAdam\n",
    "from pyro.infer import Predictive\n",
    "from sklearn.model_selection import train_test_split"
   ]
  },
  {
   "cell_type": "markdown",
   "id": "164997a7",
   "metadata": {},
   "source": [
    "### Data Processing"
   ]
  },
  {
   "cell_type": "code",
   "execution_count": 63,
   "id": "486bee3e",
   "metadata": {},
   "outputs": [],
   "source": [
    "scaler = StandardScaler()"
   ]
  },
  {
   "cell_type": "code",
   "execution_count": 64,
   "id": "91bb6ba8",
   "metadata": {},
   "outputs": [],
   "source": [
    "#Use your own local path please!\n",
    "path = \"./Data/\"\n",
    "file_name = [\"train.csv\", \"test.csv\", \"submission.csv\"]\n",
    "df_train = pd.read_csv(path + file_name[0])\n",
    "df_test = pd.read_csv(path + file_name[1])\n",
    "df_submission = pd.read_csv(path + file_name[2])"
   ]
  },
  {
   "cell_type": "code",
   "execution_count": 65,
   "id": "67eee01f",
   "metadata": {},
   "outputs": [],
   "source": [
    "df_train['key'] = df_train['key'].fillna(df_train['key'].mean())"
   ]
  },
  {
   "cell_type": "code",
   "execution_count": 66,
   "id": "b6df99a2",
   "metadata": {},
   "outputs": [],
   "source": [
    "df_train['instrumentalness'] = df_train['instrumentalness'].fillna(df_train['instrumentalness'].mean())"
   ]
  },
  {
   "cell_type": "code",
   "execution_count": 67,
   "id": "18d897c6",
   "metadata": {},
   "outputs": [],
   "source": [
    "df_train['Popularity'] = df_train['Popularity'].fillna(df_train['Popularity'].mean())"
   ]
  },
  {
   "cell_type": "code",
   "execution_count": 68,
   "id": "bd5cd8e8",
   "metadata": {},
   "outputs": [],
   "source": [
    "df = df_train.drop(['Artist Name','Track Name'],axis=1).copy()"
   ]
  },
  {
   "cell_type": "code",
   "execution_count": 69,
   "id": "00203fb1",
   "metadata": {},
   "outputs": [],
   "source": [
    "df_sampled = df.sample(1200,random_state=47)"
   ]
  },
  {
   "cell_type": "code",
   "execution_count": 70,
   "id": "3fef63c1",
   "metadata": {},
   "outputs": [],
   "source": [
    "df_features = df_sampled.iloc[:,:-1].copy()\n",
    "df_target = df_sampled.iloc[:,-1].copy()"
   ]
  },
  {
   "cell_type": "code",
   "execution_count": 71,
   "id": "97415b3c",
   "metadata": {},
   "outputs": [],
   "source": [
    "df_features = scaler.fit_transform(df_features)"
   ]
  },
  {
   "cell_type": "code",
   "execution_count": 74,
   "id": "05456d7d",
   "metadata": {},
   "outputs": [],
   "source": [
    "df_train_features, df_test_features,df_train_target, df_test_target =  train_test_split(df_features,df_target,stratify=df_target,random_state=47, test_size=1/6)"
   ]
  },
  {
   "cell_type": "code",
   "execution_count": 75,
   "id": "26d9866c",
   "metadata": {},
   "outputs": [],
   "source": [
    "df_train_target = df_train_target.to_numpy()\n",
    "df_test_target = df_test_target.to_numpy()"
   ]
  },
  {
   "cell_type": "markdown",
   "id": "d1dfc9e9",
   "metadata": {},
   "source": [
    "### Ancestral Sampling "
   ]
  },
  {
   "cell_type": "code",
   "execution_count": 76,
   "id": "62b77aae",
   "metadata": {},
   "outputs": [],
   "source": [
    "def sigmoid(x):\n",
    "    return 1 / (1 + np.exp(-x))"
   ]
  },
  {
   "cell_type": "code",
   "execution_count": 77,
   "id": "d29f4324",
   "metadata": {},
   "outputs": [
    {
     "name": "stdout",
     "output_type": "stream",
     "text": [
      "beta: [ 1.79810573 -2.20830985  0.88540185  0.32632428 -1.55703549  0.70710635\n",
      " -0.98559841  2.51580014 -1.22798348 -1.0434858   2.22033286  0.85161375\n",
      " -1.025999   -1.02672863]\n"
     ]
    }
   ],
   "source": [
    "# sample coefficients (beta)\n",
    "beta = np.random.normal(0,1,size=D)\n",
    "print(\"beta:\", beta)\n",
    "\n",
    "beta_array = np.zeros((n_cat,D))\n",
    "\n",
    "for i in range(n_cat):\n",
    "    \n",
    "    beta_array[i,:] = np.random.normal(0,1,size=D)\n",
    "    \n",
    "# sample observations (y's)\n",
    "y = np.zeros((N_train,n_cat))\n",
    "for n in range(N_train):\n",
    "    \n",
    "    probs = np.zeros(n_cat)\n",
    "    for i in range(n_cat):\n",
    "        probs[i] = np.array([(np.dot(beta_array[i,:], df_train_features[n,:]))])\n",
    "        \n",
    "    p =  softmax(probs)\n",
    "    y[n,:] = np.random.multinomial(1, p)  #binomial with one trial is equivalent to bernoulli\n",
    "    #y[n] = int(p > 0.5) # alternative version without observation noise\n",
    "    #print(\" p=, y[n]=\"  (n, p, y[n,:]))\n",
    "    #print('n, p and y ', n, p, y[n,:])"
   ]
  },
  {
   "cell_type": "code",
   "execution_count": 78,
   "id": "51ce21b1",
   "metadata": {},
   "outputs": [],
   "source": [
    "label_array = np.array([]) \n",
    "for i in y:\n",
    "    label_array = np.append(label_array,np.argmax(i))\n"
   ]
  },
  {
   "cell_type": "code",
   "execution_count": 79,
   "id": "d126f57e",
   "metadata": {},
   "outputs": [
    {
     "data": {
      "text/plain": [
       "Counter({8.0: 110,\n",
       "         1.0: 68,\n",
       "         0.0: 160,\n",
       "         4.0: 181,\n",
       "         5.0: 119,\n",
       "         9.0: 76,\n",
       "         3.0: 108,\n",
       "         7.0: 49,\n",
       "         6.0: 44,\n",
       "         2.0: 46,\n",
       "         10.0: 39})"
      ]
     },
     "execution_count": 79,
     "metadata": {},
     "output_type": "execute_result"
    }
   ],
   "source": [
    "from collections import Counter\n",
    "\n",
    "counts = Counter(label_array)\n",
    "counts"
   ]
  },
  {
   "cell_type": "code",
   "execution_count": 80,
   "id": "0c36a47e",
   "metadata": {},
   "outputs": [
    {
     "name": "stdout",
     "output_type": "stream",
     "text": [
      "Accuracy: 0.067\n"
     ]
    }
   ],
   "source": [
    "print(\"Accuracy:\", 1.0*np.sum(label_array == df_train_target.flatten()) / len(df_train_target))"
   ]
  },
  {
   "cell_type": "markdown",
   "id": "e0ff3efc",
   "metadata": {},
   "source": [
    "### Model implementation with Pyro"
   ]
  },
  {
   "cell_type": "code",
   "execution_count": 81,
   "id": "a6719dd6",
   "metadata": {},
   "outputs": [],
   "source": [
    "def model(X, n_cat, degF, tau, obs=None):\n",
    "    \n",
    "    input_dim = X.shape[1]\n",
    "    \n",
    "    \n",
    "    mu_beta = pyro.sample(\"mu_beta\", dist.StudentT(df=torch.ones(n_cat)*degF, \n",
    "                                                   loc=torch.zeros(n_cat), \n",
    "                                                   scale=torch.ones(n_cat)).to_event()) # Prior for the bias mean      \n",
    "    sigma_beta  = pyro.sample(\"sigma_beta\",  dist.HalfCauchy(tau*torch.ones(n_cat)).to_event()) # Prior for the bias standard deviation\n",
    "    \n",
    "    beta  = pyro.sample(\"beta\", dist.Normal(mu_beta*torch.ones(n_cat), \n",
    "                                            sigma_beta*torch.ones(input_dim, n_cat)).to_event()) # Priors for the regression coefficents\n",
    "\n",
    "    alpha = pyro.sample(\"alpha\", dist.Normal(torch.zeros(1, n_cat), \n",
    "                                             5.*torch.ones(1, n_cat)).to_event())  # Prior for the bias/intercept\n",
    "    \n",
    "    \n",
    "    with pyro.plate(\"data\"):\n",
    "        y = pyro.sample(\"y\", dist.Categorical(logits=alpha + X.matmul(beta)), obs=obs)\n",
    "        \n",
    "    return y"
   ]
  },
  {
   "cell_type": "code",
   "execution_count": 82,
   "id": "19960313",
   "metadata": {},
   "outputs": [],
   "source": [
    "X_train = torch.tensor(df_train_features).float()\n",
    "y_train = torch.tensor(df_train_target.flatten()).float()"
   ]
  },
  {
   "cell_type": "markdown",
   "id": "08672c0a",
   "metadata": {},
   "source": [
    "#### Model training "
   ]
  },
  {
   "cell_type": "code",
   "execution_count": 83,
   "id": "abd828b1",
   "metadata": {},
   "outputs": [
    {
     "name": "stdout",
     "output_type": "stream",
     "text": [
      "[0] ELBO: 31255.4\n",
      "[1000] ELBO: 24729.3\n",
      "[2000] ELBO: 19592.3\n",
      "[3000] ELBO: 15103.4\n",
      "[4000] ELBO: 11763.1\n",
      "[5000] ELBO: 9865.9\n",
      "[6000] ELBO: 7468.0\n",
      "[7000] ELBO: 5249.4\n",
      "[8000] ELBO: 4039.5\n",
      "[9000] ELBO: 3321.5\n",
      "[10000] ELBO: 2740.7\n",
      "[11000] ELBO: 2541.2\n",
      "[12000] ELBO: 2272.0\n",
      "[13000] ELBO: 2139.9\n",
      "[14000] ELBO: 2121.9\n",
      "[15000] ELBO: 2015.9\n",
      "[16000] ELBO: 1976.3\n",
      "[17000] ELBO: 1910.1\n",
      "[18000] ELBO: 1891.4\n",
      "[19000] ELBO: 1870.8\n"
     ]
    }
   ],
   "source": [
    "# Define guide function\n",
    "guide = AutoMultivariateNormal(model)\n",
    "\n",
    "# Reset parameter values\n",
    "pyro.clear_param_store()\n",
    "\n",
    "# Define the number of optimization steps\n",
    "n_steps = 20000\n",
    "\n",
    "# Setup the optimizer\n",
    "adam_params = {\"lr\": 0.001}\n",
    "optimizer = ClippedAdam(adam_params)\n",
    "\n",
    "# Setup the inference algorithm\n",
    "elbo = Trace_ELBO(num_particles=1)\n",
    "svi = SVI(model, guide, optimizer, loss=elbo)\n",
    "\n",
    "# Do gradient steps\n",
    "for step in range(n_steps):\n",
    "    elbo = svi.step(X_train, n_cat, degF, tau, y_train)\n",
    "    if step % 1000 == 0:\n",
    "        print(\"[%d] ELBO: %.1f\" % (step, elbo))"
   ]
  },
  {
   "cell_type": "code",
   "execution_count": 84,
   "id": "4d417140",
   "metadata": {},
   "outputs": [],
   "source": [
    "predictive = Predictive(model, guide=guide, num_samples=2000,\n",
    "                        return_sites=(\"alpha\", \"beta\"))\n",
    "samples = predictive(X_train, n_cat, degF, tau, y_train)"
   ]
  },
  {
   "cell_type": "code",
   "execution_count": 85,
   "id": "d5bbd9b8",
   "metadata": {},
   "outputs": [
    {
     "data": {
      "image/png": "[encoded data removed]",
      "text/plain": [
       "<Figure size 432x288 with 1 Axes>"
      ]
     },
     "metadata": {
      "needs_background": "light"
     },
     "output_type": "display_data"
    }
   ],
   "source": [
    "samples_alpha = samples[\"alpha\"].detach().squeeze()\n",
    "for c in range(n_cat):\n",
    "    sns.histplot(samples_alpha[:,c], kde=True, alpha=0.2)\n",
    "plt.legend([\"alpha%d\" % c for c in range(n_cat)])\n",
    "plt.show()"
   ]
  },
  {
   "cell_type": "code",
   "execution_count": 86,
   "id": "ac55cd34",
   "metadata": {},
   "outputs": [
    {
     "data": {
      "image/png": "[encoded data removed]",
      "text/plain": [
       "<Figure size 432x288 with 1 Axes>"
      ]
     },
     "metadata": {
      "needs_background": "light"
     },
     "output_type": "display_data"
    }
   ],
   "source": [
    "samples_beta = samples[\"beta\"].detach().squeeze()\n",
    "for c in range(1):\n",
    "    sns.histplot(samples_beta[:,c], kde=True, alpha=0.2)\n",
    "plt.legend([\"beta%d\" % int(int(c)+1) for c in range(D)])\n",
    "plt.show()"
   ]
  },
  {
   "cell_type": "code",
   "execution_count": 87,
   "id": "7ff84849",
   "metadata": {},
   "outputs": [],
   "source": [
    "mean_betas = samples_beta.mean(axis=0)\n",
    "mean_betas = mean_betas.T\n",
    "\n",
    "mean_alpha = samples_alpha.mean(axis=0)\n",
    "mean_alpha = mean_alpha.T"
   ]
  },
  {
   "cell_type": "markdown",
   "id": "2b9b143a",
   "metadata": {},
   "source": [
    "### Inference and computation of accuracy on the train dataset "
   ]
  },
  {
   "cell_type": "code",
   "execution_count": 88,
   "id": "5abcc51f",
   "metadata": {},
   "outputs": [],
   "source": [
    "# sample observations (y's)\n",
    "y_train_pred = np.zeros((N_train,n_cat))\n",
    "for n in range(N_train):\n",
    "    \n",
    "    probs = np.zeros(n_cat)\n",
    "    for i in range(n_cat):\n",
    "        probs[i] = np.array([mean_alpha[i]+(np.dot(mean_betas[i,:], df_train_features[n,:]))])\n",
    "        \n",
    "    p =  softmax(probs)\n",
    "    y_train_pred[n,:] = np.argmax(p)  #binomial with one trial is equivalent to bernoulli\n",
    "  "
   ]
  },
  {
   "cell_type": "code",
   "execution_count": 89,
   "id": "509ea88e",
   "metadata": {},
   "outputs": [],
   "source": [
    "y_train_pred = y_train_pred[:,0]"
   ]
  },
  {
   "cell_type": "code",
   "execution_count": 90,
   "id": "a09dde7d",
   "metadata": {},
   "outputs": [
    {
     "name": "stdout",
     "output_type": "stream",
     "text": [
      "Accuracy: 0.51\n"
     ]
    }
   ],
   "source": [
    "print(\"Accuracy:\", 1.0*np.sum(y_train_pred == df_train_target.flatten()) / len(df_train_target))"
   ]
  },
  {
   "cell_type": "markdown",
   "id": "41b25af2",
   "metadata": {},
   "source": [
    "### Inference and computation of accuracy on the test dataset "
   ]
  },
  {
   "cell_type": "code",
   "execution_count": 91,
   "id": "706abb3b",
   "metadata": {},
   "outputs": [],
   "source": [
    "# sample observations (y's)\n",
    "y_test_pred = np.zeros((N_test,n_cat))\n",
    "for n in range(N_test):\n",
    "    \n",
    "    probs = np.zeros(n_cat)\n",
    "    for i in range(n_cat):\n",
    "        probs[i] = np.array([mean_alpha[i]+(np.dot(mean_betas[i,:], df_test_features[n,:]))])\n",
    "        \n",
    "    p =  softmax(probs)\n",
    "    y_test_pred[n,:] = np.argmax(p)  #binomial with one trial is equivalent to bernoulli\n"
   ]
  },
  {
   "cell_type": "code",
   "execution_count": 92,
   "id": "66db8e8f",
   "metadata": {},
   "outputs": [],
   "source": [
    "y_test_pred = y_test_pred[:,0]"
   ]
  },
  {
   "cell_type": "code",
   "execution_count": 93,
   "id": "45c7ce72",
   "metadata": {},
   "outputs": [
    {
     "name": "stdout",
     "output_type": "stream",
     "text": [
      "Accuracy: 0.44\n"
     ]
    }
   ],
   "source": [
    "print(\"Accuracy:\", 1.0*np.sum(y_test_pred == df_test_target.flatten()) / len(df_test_target))"
   ]
  },
  {
   "cell_type": "markdown",
   "id": "76e67419",
   "metadata": {},
   "source": [
    "\n",
    "DOUBLE CHECK\n",
    "\n",
    "* fillna using KNN inputer \n",
    "* is averaging the betas giving the best result for the predictions \n",
    "* is ancentral sampling correct? \n",
    "\n",
    "TODO\n",
    "\n",
    "* Have priors for mean and variance for betas and alphas - parameter tuning \n",
    "* Consider different distributions for priors\n",
    "* Train model on more data - currently 100 \n",
    "* Extend it with FFNN \n",
    "* Feature engineer name and album name and retrain logistic regression model using these attributes"
   ]
  },
  {
   "cell_type": "code",
   "execution_count": null,
   "id": "4bb7aa27",
   "metadata": {},
   "outputs": [],
   "source": []
  }
 ],
 "metadata": {
  "kernelspec": {
   "display_name": "Python 3 (ipykernel)",
   "language": "python",
   "name": "python3"
  },
  "language_info": {
   "codemirror_mode": {
    "name": "ipython",
    "version": 3
   },
   "file_extension": ".py",
   "mimetype": "text/x-python",
   "name": "python",
   "nbconvert_exporter": "python",
   "pygments_lexer": "ipython3",
   "version": "3.10.0"
  }
 },
 "nbformat": 4,
 "nbformat_minor": 5
}
