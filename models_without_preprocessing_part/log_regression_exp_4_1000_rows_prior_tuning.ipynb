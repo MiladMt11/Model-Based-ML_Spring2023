{
 "cells": [
  {
   "cell_type": "code",
   "execution_count": 1,
   "id": "418d51fa",
   "metadata": {},
   "outputs": [],
   "source": [
    "import pandas as pd\n",
    "import numpy as np\n",
    "import seaborn as sns\n",
    "import matplotlib.pyplot as plt\n",
    "\n",
    "from sklearn import linear_model\n",
    "import torch\n",
    "from scipy.special import softmax \n",
    "from sklearn.preprocessing import StandardScaler\n",
    "\n",
    "import pyro\n",
    "import pyro.distributions as dist\n",
    "from pyro.contrib.autoguide import AutoDiagonalNormal, AutoMultivariateNormal\n",
    "from pyro.infer import MCMC, NUTS, HMC, SVI, Trace_ELBO\n",
    "from pyro.optim import Adam, ClippedAdam\n",
    "from pyro.infer import Predictive\n",
    "from sklearn.model_selection import train_test_split\n",
    "import pickle"
   ]
  },
  {
   "attachments": {},
   "cell_type": "markdown",
   "id": "164997a7",
   "metadata": {},
   "source": [
    "### Data Processing"
   ]
  },
  {
   "cell_type": "code",
   "execution_count": 2,
   "id": "486bee3e",
   "metadata": {},
   "outputs": [],
   "source": [
    "scaler = StandardScaler()\n",
    "df = pd.read_pickle('../pickle/df.pkl')"
   ]
  },
  {
   "cell_type": "code",
   "execution_count": 3,
   "id": "7d39712a",
   "metadata": {},
   "outputs": [],
   "source": [
    "df_sampled = df.sample(1400,random_state=47)"
   ]
  },
  {
   "cell_type": "code",
   "execution_count": 4,
   "id": "11a49c99",
   "metadata": {},
   "outputs": [],
   "source": [
    "df_features = df_sampled.iloc[:,:-1].copy()\n",
    "df_target = df_sampled.iloc[:,-1].copy()"
   ]
  },
  {
   "cell_type": "code",
   "execution_count": 5,
   "id": "eca5677a",
   "metadata": {},
   "outputs": [],
   "source": [
    "df_features = scaler.fit_transform(df_features)"
   ]
  },
  {
   "cell_type": "code",
   "execution_count": 6,
   "id": "9d6a4d7b",
   "metadata": {},
   "outputs": [],
   "source": [
    "df_train_features, df_test_features,df_train_target, df_test_target =  train_test_split(df_features,df_target,stratify=df_target,random_state=47, test_size=1/7)\n",
    "\n",
    "df_train_features, df_val_features,df_train_target, df_val_target =  train_test_split(df_train_features,df_train_target,stratify=df_train_target,random_state=47, test_size=1/6)"
   ]
  },
  {
   "cell_type": "code",
   "execution_count": 7,
   "id": "df7c8b81",
   "metadata": {},
   "outputs": [],
   "source": [
    "df_train_target = df_train_target.to_numpy()\n",
    "df_test_target = df_test_target.to_numpy()\n",
    "df_val_target = df_val_target.to_numpy()"
   ]
  },
  {
   "cell_type": "code",
   "execution_count": 8,
   "id": "8bf8c4c2",
   "metadata": {},
   "outputs": [],
   "source": [
    "D = df_train_features.shape[1]\n",
    "N_train = df_train_features.shape[0]\n",
    "N_test = df_test_features.shape[0]\n",
    "N_val = df_val_features.shape[0]\n",
    "n_cat = 11 \n",
    "degF=5\n",
    "tau=10"
   ]
  },
  {
   "attachments": {},
   "cell_type": "markdown",
   "id": "d1dfc9e9",
   "metadata": {},
   "source": [
    "### Ancestral Sampling "
   ]
  },
  {
   "cell_type": "code",
   "execution_count": 122,
   "id": "62b77aae",
   "metadata": {},
   "outputs": [],
   "source": [
    "def sigmoid(x):\n",
    "    return 1 / (1 + np.exp(-x))"
   ]
  },
  {
   "cell_type": "code",
   "execution_count": 123,
   "id": "d29f4324",
   "metadata": {},
   "outputs": [
    {
     "name": "stdout",
     "output_type": "stream",
     "text": [
      "beta: [ 0.74122682  0.74561872  0.18695573  0.04654128 -0.59934611 -1.09892932\n",
      "  1.05015333  0.95079291  0.66529246 -0.03065803 -0.29963162 -0.27708144\n",
      "  0.96487826 -0.96600051]\n"
     ]
    }
   ],
   "source": [
    "# sample coefficients (beta)\n",
    "beta = np.random.normal(0,1,size=D)\n",
    "print(\"beta:\", beta)\n",
    "\n",
    "beta_array = np.zeros((n_cat,D))\n",
    "\n",
    "for i in range(n_cat):\n",
    "    \n",
    "    beta_array[i,:] = np.random.normal(0,1,size=D)\n",
    "    \n",
    "# sample observations (y's)\n",
    "y = np.zeros((N_train,n_cat))\n",
    "for n in range(N_train):\n",
    "    \n",
    "    probs = np.zeros(n_cat)\n",
    "    for i in range(n_cat):\n",
    "        probs[i] = np.array([(np.dot(beta_array[i,:], df_train_features[n,:]))])\n",
    "        \n",
    "    p =  softmax(probs)\n",
    "    y[n,:] = np.random.multinomial(1, p)  #binomial with one trial is equivalent to bernoulli\n",
    "    #y[n] = int(p > 0.5) # alternative version without observation noise\n",
    "    #print(\" p=, y[n]=\"  (n, p, y[n,:]))\n",
    "    #print('n, p and y ', n, p, y[n,:])"
   ]
  },
  {
   "cell_type": "code",
   "execution_count": 124,
   "id": "51ce21b1",
   "metadata": {},
   "outputs": [],
   "source": [
    "label_array = np.array([]) \n",
    "for i in y:\n",
    "    label_array = np.append(label_array,np.argmax(i))\n"
   ]
  },
  {
   "cell_type": "code",
   "execution_count": 125,
   "id": "d126f57e",
   "metadata": {},
   "outputs": [
    {
     "data": {
      "text/plain": [
       "Counter({1.0: 72,\n",
       "         0.0: 77,\n",
       "         8.0: 126,\n",
       "         3.0: 52,\n",
       "         10.0: 116,\n",
       "         9.0: 58,\n",
       "         6.0: 95,\n",
       "         5.0: 81,\n",
       "         7.0: 83,\n",
       "         4.0: 46,\n",
       "         2.0: 50})"
      ]
     },
     "execution_count": 125,
     "metadata": {},
     "output_type": "execute_result"
    }
   ],
   "source": [
    "from collections import Counter\n",
    "\n",
    "counts = Counter(label_array)\n",
    "counts"
   ]
  },
  {
   "cell_type": "code",
   "execution_count": 126,
   "id": "0c36a47e",
   "metadata": {},
   "outputs": [
    {
     "name": "stdout",
     "output_type": "stream",
     "text": [
      "Accuracy: 0.1308411214953271\n"
     ]
    }
   ],
   "source": [
    "print(\"Accuracy:\", 1.0*np.sum(label_array == df_train_target.flatten()) / len(df_train_target))"
   ]
  },
  {
   "attachments": {},
   "cell_type": "markdown",
   "id": "e0ff3efc",
   "metadata": {},
   "source": [
    "### Model implementation with Pyro"
   ]
  },
  {
   "cell_type": "code",
   "execution_count": 127,
   "id": "a6719dd6",
   "metadata": {},
   "outputs": [],
   "source": [
    "def model(X, n_cat, degF, tau, obs=None):\n",
    "    \n",
    "    input_dim = X.shape[1]\n",
    "    \n",
    "    \n",
    "    mu_beta = pyro.sample(\"mu_beta\", dist.StudentT(df=torch.ones(n_cat)*degF, \n",
    "                                                   loc=torch.zeros(n_cat), \n",
    "                                                   scale=torch.ones(n_cat)).to_event()) # Prior for the bias mean      \n",
    "    sigma_beta  = pyro.sample(\"sigma_beta\",  dist.HalfCauchy(tau*torch.ones(n_cat)).to_event()) # Prior for the bias standard deviation\n",
    "    \n",
    "    beta  = pyro.sample(\"beta\", dist.Normal(mu_beta*torch.ones(n_cat), \n",
    "                                            sigma_beta*torch.ones(input_dim, n_cat)).to_event()) # Priors for the regression coefficents\n",
    "\n",
    "    alpha = pyro.sample(\"alpha\", dist.Normal(torch.zeros(1, n_cat), \n",
    "                                             5.*torch.ones(1, n_cat)).to_event())  # Prior for the bias/intercept\n",
    "    \n",
    "    \n",
    "    with pyro.plate(\"data\"):\n",
    "        y = pyro.sample(\"y\", dist.Categorical(logits=alpha + X.matmul(beta)), obs=obs)\n",
    "        \n",
    "    return y"
   ]
  },
  {
   "cell_type": "code",
   "execution_count": 128,
   "id": "19960313",
   "metadata": {},
   "outputs": [],
   "source": [
    "X_train = torch.tensor(df_train_features).float()\n",
    "y_train = torch.tensor(df_train_target.flatten()).float()"
   ]
  },
  {
   "attachments": {},
   "cell_type": "markdown",
   "id": "4a757c5f",
   "metadata": {},
   "source": [
    "#### Parameter Tuning"
   ]
  },
  {
   "attachments": {},
   "cell_type": "markdown",
   "id": "0cf7b4df",
   "metadata": {},
   "source": [
    "##### Degree of Freedom"
   ]
  },
  {
   "cell_type": "code",
   "execution_count": 129,
   "id": "1c756426",
   "metadata": {},
   "outputs": [
    {
     "name": "stdout",
     "output_type": "stream",
     "text": [
      "[0] ELBO: 13725.1\n",
      "[1000] ELBO: 9291.9\n",
      "[2000] ELBO: 6170.1\n",
      "[3000] ELBO: 4231.5\n",
      "[4000] ELBO: 2748.7\n",
      "[5000] ELBO: 1983.1\n",
      "[6000] ELBO: 1673.8\n",
      "[7000] ELBO: 1604.3\n",
      "[8000] ELBO: 1572.5\n",
      "[9000] ELBO: 1571.1\n",
      "{4: 0.48255813953488375}\n",
      "[0] ELBO: 19804.8\n",
      "[1000] ELBO: 14301.2\n",
      "[2000] ELBO: 10249.6\n",
      "[3000] ELBO: 7098.6\n",
      "[4000] ELBO: 4761.2\n",
      "[5000] ELBO: 3424.5\n",
      "[6000] ELBO: 2673.1\n",
      "[7000] ELBO: 2082.6\n",
      "[8000] ELBO: 1808.6\n",
      "[9000] ELBO: 1688.2\n",
      "{5: 0.45348837209302323}\n",
      "[0] ELBO: 19843.9\n",
      "[1000] ELBO: 12672.7\n",
      "[2000] ELBO: 8069.8\n",
      "[3000] ELBO: 5084.0\n",
      "[4000] ELBO: 3171.0\n",
      "[5000] ELBO: 2302.4\n",
      "[6000] ELBO: 1943.8\n",
      "[7000] ELBO: 1732.9\n",
      "[8000] ELBO: 1646.1\n",
      "[9000] ELBO: 1619.8\n",
      "{6: 0.45348837209302323}\n"
     ]
    }
   ],
   "source": [
    "degF_range = [4,5,6]\n",
    "\n",
    "acc_val_degF = []\n",
    "\n",
    "\n",
    "for degF in degF_range:\n",
    "    \n",
    "\n",
    "      # Define guide function\n",
    "    guide = AutoMultivariateNormal(model)\n",
    "\n",
    "    # Reset parameter values\n",
    "    pyro.clear_param_store()\n",
    "\n",
    "    # Define the number of optimization steps\n",
    "    n_steps = 10000\n",
    "\n",
    "    # Setup the optimizer\n",
    "    adam_params = {\"lr\": 0.001}\n",
    "    optimizer = ClippedAdam(adam_params)\n",
    "\n",
    "    # Setup the inference algorithm\n",
    "    elbo = Trace_ELBO(num_particles=1)\n",
    "    svi = SVI(model, guide, optimizer, loss=elbo)\n",
    "\n",
    "    # Do gradient steps\n",
    "    for step in range(n_steps):\n",
    "        elbo = svi.step(X_train, n_cat, degF, tau, y_train)\n",
    "        if step % 1000 == 0:\n",
    "            print(\"[%d] ELBO: %.1f\" % (step, elbo))\n",
    "            \n",
    "            \n",
    "    \n",
    "\n",
    "    predictive = Predictive(model, guide=guide, num_samples=2000,\n",
    "                            return_sites=(\"alpha\", \"beta\"))\n",
    "    samples = predictive(X_train, n_cat, degF, tau, y_train)\n",
    "    \n",
    "    samples_alpha = samples[\"alpha\"].detach().squeeze()\n",
    "    samples_beta = samples[\"beta\"].detach().squeeze()\n",
    "    \n",
    "    mean_betas = samples_beta.mean(axis=0)\n",
    "    mean_betas = mean_betas.T\n",
    "    mean_alpha = samples_alpha.mean(axis=0)\n",
    "    mean_alpha = mean_alpha.T\n",
    "    \n",
    "    \n",
    "    y_val_pred = np.zeros((N_val,n_cat))\n",
    "    \n",
    "    for n in range(N_val):\n",
    "\n",
    "        probs = np.zeros(n_cat)\n",
    "        for i in range(n_cat):\n",
    "            probs[i] = np.array([mean_alpha[i]+(np.dot(mean_betas[i,:], df_val_features[n,:]))])\n",
    "\n",
    "        p =  softmax(probs)\n",
    "        y_val_pred[n,:] = np.argmax(p)  #binomial with one trial is equivalent to bernoulli\n",
    "        \n",
    "    y_val_pred = y_val_pred[:,0]\n",
    "    \n",
    "    acc = 1.0*np.sum(y_val_pred == df_val_target.flatten()) / len(df_val_target)\n",
    "    \n",
    "    print({degF:acc})\n",
    "    acc_val_degF.append({degF:acc})\n",
    "   "
   ]
  },
  {
   "cell_type": "code",
   "execution_count": 130,
   "id": "695c212d",
   "metadata": {},
   "outputs": [
    {
     "data": {
      "text/plain": [
       "[{4: 0.48255813953488375}, {5: 0.45348837209302323}, {6: 0.45348837209302323}]"
      ]
     },
     "execution_count": 130,
     "metadata": {},
     "output_type": "execute_result"
    }
   ],
   "source": [
    "acc_val_degF"
   ]
  },
  {
   "attachments": {},
   "cell_type": "markdown",
   "id": "27317bba",
   "metadata": {},
   "source": [
    "##### Tau in Variance"
   ]
  },
  {
   "cell_type": "code",
   "execution_count": 131,
   "id": "7a9ea0ba",
   "metadata": {},
   "outputs": [
    {
     "name": "stdout",
     "output_type": "stream",
     "text": [
      "[0] ELBO: 3794.4\n",
      "[1000] ELBO: 1648.7\n",
      "[2000] ELBO: 1472.4\n",
      "[3000] ELBO: 1445.5\n",
      "[4000] ELBO: 1430.1\n",
      "[5000] ELBO: 1426.6\n",
      "[6000] ELBO: 1434.6\n",
      "[7000] ELBO: 1412.1\n",
      "[8000] ELBO: 1411.1\n",
      "[9000] ELBO: 1412.2\n",
      "{1: 0.47093023255813954}\n",
      "[0] ELBO: 21113.8\n",
      "[1000] ELBO: 14998.2\n",
      "[2000] ELBO: 10222.1\n",
      "[3000] ELBO: 7280.9\n",
      "[4000] ELBO: 5026.9\n",
      "[5000] ELBO: 3545.8\n",
      "[6000] ELBO: 2636.0\n",
      "[7000] ELBO: 2262.1\n",
      "[8000] ELBO: 1918.9\n",
      "[9000] ELBO: 1797.1\n",
      "{10: 0.45348837209302323}\n",
      "[0] ELBO: 90624.5\n",
      "[1000] ELBO: 83328.2\n",
      "[2000] ELBO: 77410.7\n",
      "[3000] ELBO: 71464.0\n",
      "[4000] ELBO: 65459.3\n",
      "[5000] ELBO: 59309.4\n",
      "[6000] ELBO: 53703.9\n",
      "[7000] ELBO: 50141.0\n",
      "[8000] ELBO: 45547.6\n",
      "[9000] ELBO: 40555.8\n",
      "{50: 0.1744186046511628}\n",
      "[0] ELBO: 228061.2\n",
      "[1000] ELBO: 221429.5\n",
      "[2000] ELBO: 215634.4\n",
      "[3000] ELBO: 207805.8\n",
      "[4000] ELBO: 202420.7\n",
      "[5000] ELBO: 195069.0\n",
      "[6000] ELBO: 190540.0\n",
      "[7000] ELBO: 184530.9\n",
      "[8000] ELBO: 178921.2\n",
      "[9000] ELBO: 174405.1\n",
      "{100: 0.1511627906976744}\n"
     ]
    }
   ],
   "source": [
    "tau_range = [1,10,50,100]\n",
    "degF = 4\n",
    "\n",
    "acc_val_tau = []\n",
    "\n",
    "\n",
    "for tau in tau_range:\n",
    "    \n",
    "\n",
    "      # Define guide function\n",
    "    guide = AutoMultivariateNormal(model)\n",
    "\n",
    "    # Reset parameter values\n",
    "    pyro.clear_param_store()\n",
    "\n",
    "    # Define the number of optimization steps\n",
    "    n_steps = 10000\n",
    "\n",
    "    # Setup the optimizer\n",
    "    adam_params = {\"lr\": 0.001}\n",
    "    optimizer = ClippedAdam(adam_params)\n",
    "\n",
    "    # Setup the inference algorithm\n",
    "    elbo = Trace_ELBO(num_particles=1)\n",
    "    svi = SVI(model, guide, optimizer, loss=elbo)\n",
    "\n",
    "    # Do gradient steps\n",
    "    for step in range(n_steps):\n",
    "        elbo = svi.step(X_train, n_cat, degF, tau, y_train)\n",
    "        if step % 1000 == 0:\n",
    "            print(\"[%d] ELBO: %.1f\" % (step, elbo))\n",
    "            \n",
    "            \n",
    "    \n",
    "\n",
    "    predictive = Predictive(model, guide=guide, num_samples=2000,\n",
    "                            return_sites=(\"alpha\", \"beta\"))\n",
    "    samples = predictive(X_train, n_cat, degF, tau, y_train)\n",
    "    \n",
    "    \n",
    "    samples_alpha = samples[\"alpha\"].detach().squeeze()\n",
    "    samples_beta = samples[\"beta\"].detach().squeeze()\n",
    "    \n",
    "    \n",
    "    mean_betas = samples_beta.mean(axis=0)\n",
    "    mean_betas = mean_betas.T\n",
    "    mean_alpha = samples_alpha.mean(axis=0)\n",
    "    mean_alpha = mean_alpha.T\n",
    "    \n",
    "    \n",
    "    y_val_pred = np.zeros((N_val,n_cat))\n",
    "    \n",
    "    for n in range(N_val):\n",
    "\n",
    "        probs = np.zeros(n_cat)\n",
    "        for i in range(n_cat):\n",
    "            probs[i] = np.array([mean_alpha[i]+(np.dot(mean_betas[i,:], df_val_features[n,:]))])\n",
    "\n",
    "        p =  softmax(probs)\n",
    "        y_val_pred[n,:] = np.argmax(p)  #binomial with one trial is equivalent to bernoulli\n",
    "        \n",
    "    y_val_pred = y_val_pred[:,0]\n",
    "    \n",
    "    acc = 1.0*np.sum(y_val_pred == df_val_target.flatten()) / len(df_val_target)\n",
    "    print({tau:acc})\n",
    "    acc_val_tau.append({tau:acc})\n",
    "   "
   ]
  },
  {
   "cell_type": "code",
   "execution_count": 132,
   "id": "37994a3d",
   "metadata": {},
   "outputs": [
    {
     "data": {
      "text/plain": [
       "[{1: 0.47093023255813954},\n",
       " {10: 0.45348837209302323},\n",
       " {50: 0.1744186046511628},\n",
       " {100: 0.1511627906976744}]"
      ]
     },
     "execution_count": 132,
     "metadata": {},
     "output_type": "execute_result"
    }
   ],
   "source": [
    "acc_val_tau"
   ]
  },
  {
   "attachments": {},
   "cell_type": "markdown",
   "id": "8059e1f8",
   "metadata": {},
   "source": [
    "### Model implementation with Pyro V2"
   ]
  },
  {
   "cell_type": "code",
   "execution_count": 133,
   "id": "38502b52",
   "metadata": {},
   "outputs": [],
   "source": [
    "def model_2(X, n_cat,lambda_, tau, obs=None):\n",
    "    \n",
    "    input_dim = X.shape[1]\n",
    "    \n",
    "    \n",
    "    mu_beta = pyro.sample(\"mu_beta\", dist.Normal(torch.zeros(n_cat), \n",
    "                                            lambda_*torch.ones(n_cat)).to_event()) # Prior for the bias mean  \n",
    "    \n",
    "    sigma_beta  = pyro.sample(\"sigma_beta\",  dist.HalfCauchy(tau*torch.ones(n_cat)).to_event()) # Prior for the bias standard deviation\n",
    "    \n",
    "    beta  = pyro.sample(\"beta\", dist.Normal(mu_beta*torch.ones(n_cat), \n",
    "                                            sigma_beta*torch.ones(input_dim, n_cat)).to_event()) # Priors for the regression coefficents\n",
    "\n",
    "    alpha = pyro.sample(\"alpha\", dist.Normal(torch.zeros(1, n_cat), \n",
    "                                             5.*torch.ones(1, n_cat)).to_event())  # Prior for the bias/intercept\n",
    "    \n",
    "    \n",
    "    with pyro.plate(\"data\"):\n",
    "        y = pyro.sample(\"y\", dist.Categorical(logits=alpha + X.matmul(beta)), obs=obs)\n",
    "        \n",
    "    return y"
   ]
  },
  {
   "attachments": {},
   "cell_type": "markdown",
   "id": "6e32894f",
   "metadata": {},
   "source": [
    "##### lambda"
   ]
  },
  {
   "cell_type": "code",
   "execution_count": 134,
   "id": "d560c4c2",
   "metadata": {
    "scrolled": true
   },
   "outputs": [
    {
     "name": "stdout",
     "output_type": "stream",
     "text": [
      "[0] ELBO: 188394.6\n",
      "[1000] ELBO: 181739.8\n",
      "[2000] ELBO: 175997.5\n",
      "[3000] ELBO: 169426.1\n",
      "[4000] ELBO: 163851.9\n",
      "[5000] ELBO: 156041.9\n",
      "[6000] ELBO: 151657.8\n",
      "[7000] ELBO: 143846.9\n",
      "[8000] ELBO: 140607.7\n",
      "[9000] ELBO: 135169.0\n",
      "{1: 0.12790697674418605}\n",
      "[0] ELBO: 151886.7\n",
      "[1000] ELBO: 145876.4\n",
      "[2000] ELBO: 138873.1\n",
      "[3000] ELBO: 133593.0\n",
      "[4000] ELBO: 128108.8\n",
      "[5000] ELBO: 122448.1\n",
      "[6000] ELBO: 117237.1\n",
      "[7000] ELBO: 111032.7\n",
      "[8000] ELBO: 105989.5\n",
      "[9000] ELBO: 101011.6\n",
      "{5: 0.21511627906976744}\n",
      "[0] ELBO: 212563.6\n",
      "[1000] ELBO: 205555.6\n",
      "[2000] ELBO: 198486.4\n",
      "[3000] ELBO: 191662.0\n",
      "[4000] ELBO: 184790.4\n",
      "[5000] ELBO: 177831.9\n",
      "[6000] ELBO: 171635.6\n",
      "[7000] ELBO: 164842.4\n",
      "[8000] ELBO: 158353.0\n",
      "[9000] ELBO: 152697.5\n",
      "{10: 0.0755813953488372}\n"
     ]
    }
   ],
   "source": [
    "lambda_range = [1,5,10]\n",
    "\n",
    "acc_val_lambda = []\n",
    "\n",
    "\n",
    "for lambda_ in lambda_range:\n",
    "    \n",
    "\n",
    "      # Define guide function\n",
    "    guide = AutoMultivariateNormal(model_2)\n",
    "\n",
    "    # Reset parameter values\n",
    "    pyro.clear_param_store()\n",
    "\n",
    "    # Define the number of optimization steps\n",
    "    n_steps = 10000\n",
    "\n",
    "    # Setup the optimizer\n",
    "    adam_params = {\"lr\": 0.001}\n",
    "    optimizer = ClippedAdam(adam_params)\n",
    "\n",
    "    # Setup the inference algorithm\n",
    "    elbo = Trace_ELBO(num_particles=1)\n",
    "    svi = SVI(model_2, guide, optimizer, loss=elbo)\n",
    "\n",
    "    # Do gradient steps\n",
    "    for step in range(n_steps):\n",
    "        elbo = svi.step(X_train, n_cat, lambda_, tau, y_train)\n",
    "        if step % 1000 == 0:\n",
    "            print(\"[%d] ELBO: %.1f\" % (step, elbo))\n",
    "            \n",
    "            \n",
    "    \n",
    "\n",
    "    predictive = Predictive(model_2, guide=guide, num_samples=2000,\n",
    "                            return_sites=(\"alpha\", \"beta\"))\n",
    "    samples = predictive(X_train, n_cat, lambda_, tau, y_train)\n",
    "    \n",
    "    \n",
    "    samples_alpha = samples[\"alpha\"].detach().squeeze()\n",
    "    samples_beta = samples[\"beta\"].detach().squeeze()\n",
    "    \n",
    "    \n",
    "    mean_betas = samples_beta.mean(axis=0)\n",
    "    mean_betas = mean_betas.T\n",
    "    mean_alpha = samples_alpha.mean(axis=0)\n",
    "    mean_alpha = mean_alpha.T\n",
    "    \n",
    "    \n",
    "    y_val_pred = np.zeros((N_val,n_cat))\n",
    "    \n",
    "    for n in range(N_val):\n",
    "\n",
    "        probs = np.zeros(n_cat)\n",
    "        for i in range(n_cat):\n",
    "            probs[i] = np.array([mean_alpha[i]+(np.dot(mean_betas[i,:], df_val_features[n,:]))])\n",
    "\n",
    "        p =  softmax(probs)\n",
    "        y_val_pred[n,:] = np.argmax(p)  #binomial with one trial is equivalent to bernoulli\n",
    "        \n",
    "    y_val_pred = y_val_pred[:,0]\n",
    "    \n",
    "    acc = 1.0*np.sum(y_val_pred == df_val_target.flatten()) / len(df_val_target)\n",
    "    print({lambda_:acc})\n",
    "    acc_val_lambda.append({lambda_:acc})\n",
    "   "
   ]
  },
  {
   "attachments": {},
   "cell_type": "markdown",
   "id": "08672c0a",
   "metadata": {},
   "source": [
    "#### Final Model training "
   ]
  },
  {
   "cell_type": "code",
   "execution_count": 135,
   "id": "c8b5f00f",
   "metadata": {},
   "outputs": [],
   "source": [
    "degF=4\n",
    "tau=1"
   ]
  },
  {
   "cell_type": "code",
   "execution_count": 136,
   "id": "abd828b1",
   "metadata": {},
   "outputs": [
    {
     "name": "stdout",
     "output_type": "stream",
     "text": [
      "[0] ELBO: 5061.9\n",
      "[1000] ELBO: 1924.2\n",
      "[2000] ELBO: 1550.4\n",
      "[3000] ELBO: 1482.2\n",
      "[4000] ELBO: 1434.3\n",
      "[5000] ELBO: 1431.9\n",
      "[6000] ELBO: 1420.3\n",
      "[7000] ELBO: 1416.6\n",
      "[8000] ELBO: 1406.6\n",
      "[9000] ELBO: 1417.3\n"
     ]
    }
   ],
   "source": [
    "# Define guide function\n",
    "guide = AutoMultivariateNormal(model)\n",
    "\n",
    "# Reset parameter values\n",
    "pyro.clear_param_store()\n",
    "\n",
    "# Define the number of optimization steps\n",
    "n_steps = 10000\n",
    "\n",
    "# Setup the optimizer\n",
    "adam_params = {\"lr\": 0.001}\n",
    "optimizer = ClippedAdam(adam_params)\n",
    "\n",
    "# Setup the inference algorithm\n",
    "elbo = Trace_ELBO(num_particles=1)\n",
    "svi = SVI(model, guide, optimizer, loss=elbo)\n",
    "\n",
    "# Do gradient steps\n",
    "for step in range(n_steps):\n",
    "    elbo = svi.step(X_train, n_cat, degF, tau, y_train)\n",
    "    if step % 1000 == 0:\n",
    "        print(\"[%d] ELBO: %.1f\" % (step, elbo))"
   ]
  },
  {
   "cell_type": "code",
   "execution_count": 137,
   "id": "4d417140",
   "metadata": {},
   "outputs": [],
   "source": [
    "predictive = Predictive(model, guide=guide, num_samples=10000,\n",
    "                        return_sites=(\"alpha\", \"beta\"))\n",
    "samples = predictive(X_train, n_cat, degF, tau, y_train)"
   ]
  },
  {
   "cell_type": "code",
   "execution_count": 138,
   "id": "d5bbd9b8",
   "metadata": {},
   "outputs": [
    {
     "data": {
      "image/png": "[encoded data removed]",
      "text/plain": [
       "<Figure size 432x288 with 1 Axes>"
      ]
     },
     "metadata": {
      "needs_background": "light"
     },
     "output_type": "display_data"
    }
   ],
   "source": [
    "samples_alpha = samples[\"alpha\"].detach().squeeze()\n",
    "for c in range(n_cat):\n",
    "    sns.histplot(samples_alpha[:,c], kde=True, alpha=0.2)\n",
    "plt.legend([\"alpha%d\" % c for c in range(n_cat)])\n",
    "plt.show()"
   ]
  },
  {
   "cell_type": "code",
   "execution_count": 139,
   "id": "ac55cd34",
   "metadata": {},
   "outputs": [
    {
     "data": {
      "image/png": "[encoded data removed]",
      "text/plain": [
       "<Figure size 432x288 with 1 Axes>"
      ]
     },
     "metadata": {
      "needs_background": "light"
     },
     "output_type": "display_data"
    }
   ],
   "source": [
    "samples_beta = samples[\"beta\"].detach().squeeze()\n",
    "for c in range(1):\n",
    "    sns.histplot(samples_beta[:,c], kde=True, alpha=0.2)\n",
    "plt.legend([\"beta%d\" % int(int(c)+1) for c in range(D)])\n",
    "plt.show()"
   ]
  },
  {
   "cell_type": "code",
   "execution_count": 141,
   "id": "7ff84849",
   "metadata": {},
   "outputs": [],
   "source": [
    "mean_betas = samples_beta.mean(axis=0)\n",
    "mean_betas = mean_betas.T\n",
    "\n",
    "mean_alpha = samples_alpha.mean(axis=0)\n",
    "mean_alpha = mean_alpha.T"
   ]
  },
  {
   "cell_type": "code",
   "execution_count": 149,
   "id": "20b5f6b6",
   "metadata": {},
   "outputs": [],
   "source": [
    "with open('./mean_betas.pkl','wb') as f:\n",
    "    pickle.dump(mean_betas,f)\n",
    "    \n",
    "with open('./mean_alpha.pkl','wb') as f:\n",
    "    pickle.dump(mean_alpha,f)"
   ]
  },
  {
   "attachments": {},
   "cell_type": "markdown",
   "id": "2b9b143a",
   "metadata": {},
   "source": [
    "### Inference and computation of accuracy on the train dataset "
   ]
  },
  {
   "cell_type": "code",
   "execution_count": 142,
   "id": "5abcc51f",
   "metadata": {},
   "outputs": [],
   "source": [
    "# sample observations (y's)\n",
    "y_train_pred = np.zeros((N_train,n_cat))\n",
    "for n in range(N_train):\n",
    "    \n",
    "    probs = np.zeros(n_cat)\n",
    "    for i in range(n_cat):\n",
    "        probs[i] = np.array([mean_alpha[i]+(np.dot(mean_betas[i,:], df_train_features[n,:]))])\n",
    "        \n",
    "    p =  softmax(probs)\n",
    "    y_train_pred[n,:] = np.argmax(p)  #binomial with one trial is equivalent to bernoulli\n"
   ]
  },
  {
   "cell_type": "code",
   "execution_count": 143,
   "id": "509ea88e",
   "metadata": {},
   "outputs": [],
   "source": [
    "y_train_pred = y_train_pred[:,0]"
   ]
  },
  {
   "cell_type": "code",
   "execution_count": 144,
   "id": "a09dde7d",
   "metadata": {},
   "outputs": [
    {
     "name": "stdout",
     "output_type": "stream",
     "text": [
      "Accuracy: 0.4976635514018692\n"
     ]
    }
   ],
   "source": [
    "print(\"Accuracy:\", 1.0*np.sum(y_train_pred == df_train_target.flatten()) / len(df_train_target))"
   ]
  },
  {
   "attachments": {},
   "cell_type": "markdown",
   "id": "41b25af2",
   "metadata": {},
   "source": [
    "### Inference and computation of accuracy on the test dataset "
   ]
  },
  {
   "cell_type": "code",
   "execution_count": 145,
   "id": "706abb3b",
   "metadata": {},
   "outputs": [],
   "source": [
    "# sample observations (y's)\n",
    "y_test_pred = np.zeros((N_test,n_cat))\n",
    "for n in range(N_test):\n",
    "    \n",
    "    probs = np.zeros(n_cat)\n",
    "    for i in range(n_cat):\n",
    "        probs[i] = np.array([mean_alpha[i]+(np.dot(mean_betas[i,:], df_test_features[n,:]))])\n",
    "        \n",
    "    p =  softmax(probs)\n",
    "    y_test_pred[n,:] = np.argmax(p)  #binomial with one trial is equivalent to bernoulli\n"
   ]
  },
  {
   "cell_type": "code",
   "execution_count": 146,
   "id": "66db8e8f",
   "metadata": {},
   "outputs": [],
   "source": [
    "y_test_pred = y_test_pred[:,0]"
   ]
  },
  {
   "cell_type": "code",
   "execution_count": 147,
   "id": "45c7ce72",
   "metadata": {},
   "outputs": [
    {
     "name": "stdout",
     "output_type": "stream",
     "text": [
      "Accuracy: 0.46511627906976744\n"
     ]
    }
   ],
   "source": [
    "print(\"Accuracy:\", 1.0*np.sum(y_test_pred == df_test_target.flatten()) / len(df_test_target))"
   ]
  },
  {
   "attachments": {},
   "cell_type": "markdown",
   "id": "76e67419",
   "metadata": {},
   "source": [
    "\n",
    "DOUBLE CHECK\n",
    "\n",
    "* fillna using KNN inputer \n",
    "* is averaging the betas giving the best result for the predictions \n",
    "* is ancentral sampling correct? \n",
    "* Consider different distributions for priors\n",
    "\n",
    "Done\n",
    "\n",
    "* Have priors for mean and variance for betas and alphas - parameter tuning \n",
    "* Train model on more data - currently 100 \n",
    "\n",
    "TODO\n",
    "\n",
    "* Feature engineer name and album name and retrain logistic regression model using these attributes\n",
    "* Hyper parameter tuning\n",
    "* Extend it with FFNN \n",
    "* Train model on more data (like 10000)"
   ]
  }
 ],
 "metadata": {
  "kernelspec": {
   "display_name": "Python 3 (ipykernel)",
   "language": "python",
   "name": "python3"
  },
  "language_info": {
   "codemirror_mode": {
    "name": "ipython",
    "version": 3
   },
   "file_extension": ".py",
   "mimetype": "text/x-python",
   "name": "python",
   "nbconvert_exporter": "python",
   "pygments_lexer": "ipython3",
   "version": "3.9.15"
  }
 },
 "nbformat": 4,
 "nbformat_minor": 5
}
