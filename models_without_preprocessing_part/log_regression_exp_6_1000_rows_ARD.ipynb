{
 "cells": [
  {
   "cell_type": "code",
   "execution_count": 10,
   "id": "418d51fa",
   "metadata": {},
   "outputs": [],
   "source": [
    "import pandas as pd\n",
    "import numpy as np\n",
    "import seaborn as sns\n",
    "import matplotlib.pyplot as plt\n",
    "\n",
    "from sklearn import linear_model\n",
    "import torch\n",
    "from scipy.special import softmax \n",
    "from sklearn.preprocessing import StandardScaler\n",
    "\n",
    "import pyro\n",
    "import pyro.distributions as dist\n",
    "from pyro.contrib.autoguide import AutoDiagonalNormal, AutoMultivariateNormal\n",
    "from pyro.infer import MCMC, NUTS, HMC, SVI, Trace_ELBO\n",
    "from pyro.optim import Adam, ClippedAdam\n",
    "from pyro.infer import Predictive\n",
    "from sklearn.model_selection import train_test_split"
   ]
  },
  {
   "attachments": {},
   "cell_type": "markdown",
   "id": "164997a7",
   "metadata": {},
   "source": [
    "### Data Processing"
   ]
  },
  {
   "cell_type": "code",
   "execution_count": 11,
   "id": "486bee3e",
   "metadata": {},
   "outputs": [],
   "source": [
    "scaler = StandardScaler()\n",
    "df = pd.read_pickle('../pickle/df.pkl')"
   ]
  },
  {
   "cell_type": "code",
   "execution_count": 12,
   "id": "36a137f2",
   "metadata": {},
   "outputs": [],
   "source": [
    "df_sampled = df.sample(1200,random_state=47)"
   ]
  },
  {
   "cell_type": "code",
   "execution_count": 13,
   "id": "af84a46d",
   "metadata": {},
   "outputs": [],
   "source": [
    "df_features = df_sampled.iloc[:,:-1].copy()\n",
    "df_target = df_sampled.iloc[:,-1].copy()"
   ]
  },
  {
   "cell_type": "code",
   "execution_count": 14,
   "id": "dd4e9582",
   "metadata": {},
   "outputs": [],
   "source": [
    "df_features = scaler.fit_transform(df_features)"
   ]
  },
  {
   "cell_type": "code",
   "execution_count": 15,
   "id": "bc7b674a",
   "metadata": {},
   "outputs": [],
   "source": [
    "df_train_features, df_test_features,df_train_target, df_test_target =  train_test_split(df_features,df_target,stratify=df_target,random_state=47, test_size=1/6)"
   ]
  },
  {
   "cell_type": "code",
   "execution_count": 17,
   "id": "6fc360aa",
   "metadata": {},
   "outputs": [],
   "source": [
    "df_train_target = df_train_target.to_numpy()\n",
    "df_test_target = df_test_target.to_numpy()"
   ]
  },
  {
   "cell_type": "code",
   "execution_count": 18,
   "id": "8bf8c4c2",
   "metadata": {},
   "outputs": [],
   "source": [
    "D = df_train_features.shape[1]\n",
    "N_train = df_train_features.shape[0]\n",
    "N_test = df_test_features.shape[0]\n",
    "# N_val = df_val_features.shape[0]\n",
    "n_cat = 11 \n",
    "degF=4\n",
    "tau=1"
   ]
  },
  {
   "attachments": {},
   "cell_type": "markdown",
   "id": "d1dfc9e9",
   "metadata": {},
   "source": [
    "### Ancestral Sampling "
   ]
  },
  {
   "cell_type": "code",
   "execution_count": 67,
   "id": "62b77aae",
   "metadata": {},
   "outputs": [],
   "source": [
    "def sigmoid(x):\n",
    "    return 1 / (1 + np.exp(-x))"
   ]
  },
  {
   "cell_type": "code",
   "execution_count": 68,
   "id": "d29f4324",
   "metadata": {},
   "outputs": [
    {
     "name": "stdout",
     "output_type": "stream",
     "text": [
      "beta: [-0.39571403 -0.01504656  1.49620266  2.18520321 -1.07839251 -0.26767323\n",
      " -0.17295402  1.75425971  0.46015743 -0.94126473  0.77581824  0.24232987\n",
      "  0.48497611 -0.3754991 ]\n"
     ]
    }
   ],
   "source": [
    "# sample coefficients (beta)\n",
    "beta = np.random.normal(0,1,size=D)\n",
    "print(\"beta:\", beta)\n",
    "\n",
    "beta_array = np.zeros((n_cat,D))\n",
    "\n",
    "for i in range(n_cat):\n",
    "    \n",
    "    beta_array[i,:] = np.random.normal(0,1,size=D)\n",
    "    \n",
    "# sample observations (y's)\n",
    "y = np.zeros((N_train,n_cat))\n",
    "for n in range(N_train):\n",
    "    \n",
    "    probs = np.zeros(n_cat)\n",
    "    for i in range(n_cat):\n",
    "        probs[i] = np.array([(np.dot(beta_array[i,:], df_train_features[n,:]))])\n",
    "        \n",
    "    p =  softmax(probs)\n",
    "    y[n,:] = np.random.multinomial(1, p)  #binomial with one trial is equivalent to bernoulli\n",
    "    #y[n] = int(p > 0.5) # alternative version without observation noise\n",
    "    #print(\" p=, y[n]=\"  (n, p, y[n,:]))\n",
    "    #print('n, p and y ', n, p, y[n,:])"
   ]
  },
  {
   "cell_type": "code",
   "execution_count": 69,
   "id": "51ce21b1",
   "metadata": {},
   "outputs": [],
   "source": [
    "label_array = np.array([]) \n",
    "for i in y:\n",
    "    label_array = np.append(label_array,np.argmax(i))\n"
   ]
  },
  {
   "cell_type": "code",
   "execution_count": 70,
   "id": "d126f57e",
   "metadata": {},
   "outputs": [
    {
     "data": {
      "text/plain": [
       "Counter({2.0: 79,\n",
       "         6.0: 70,\n",
       "         0.0: 98,\n",
       "         8.0: 90,\n",
       "         5.0: 44,\n",
       "         7.0: 39,\n",
       "         1.0: 78,\n",
       "         3.0: 165,\n",
       "         9.0: 120,\n",
       "         4.0: 85,\n",
       "         10.0: 132})"
      ]
     },
     "execution_count": 70,
     "metadata": {},
     "output_type": "execute_result"
    }
   ],
   "source": [
    "from collections import Counter\n",
    "\n",
    "counts = Counter(label_array)\n",
    "counts"
   ]
  },
  {
   "cell_type": "code",
   "execution_count": 71,
   "id": "0c36a47e",
   "metadata": {},
   "outputs": [
    {
     "name": "stdout",
     "output_type": "stream",
     "text": [
      "Accuracy: 0.099\n"
     ]
    }
   ],
   "source": [
    "print(\"Accuracy:\", 1.0*np.sum(label_array == df_train_target.flatten()) / len(df_train_target))"
   ]
  },
  {
   "cell_type": "code",
   "execution_count": 72,
   "id": "cedc14e9",
   "metadata": {},
   "outputs": [
    {
     "data": {
      "text/plain": [
       "(1000, 14)"
      ]
     },
     "execution_count": 72,
     "metadata": {},
     "output_type": "execute_result"
    }
   ],
   "source": [
    "df_train_features.shape"
   ]
  },
  {
   "attachments": {},
   "cell_type": "markdown",
   "id": "e0ff3efc",
   "metadata": {},
   "source": [
    "### Model implementation with Pyro"
   ]
  },
  {
   "cell_type": "code",
   "execution_count": 73,
   "id": "a6719dd6",
   "metadata": {},
   "outputs": [],
   "source": [
    "def model(X, n_cat, degF, tau, obs=None):\n",
    "    \n",
    "    input_dim = X.shape[1]\n",
    "    \n",
    "    mu_beta = pyro.sample(\"mu_beta\", dist.StudentT(df=torch.ones(n_cat)*degF, \n",
    "                                                    loc=torch.zeros(n_cat), \n",
    "                                                    scale=torch.ones(n_cat)).to_event()) # Prior for the bias mean      \n",
    "    \n",
    "    with pyro.plate(\"ARD\", input_dim):\n",
    "\n",
    "        sigma_beta  = pyro.sample(\"sigma_beta\",  dist.HalfCauchy(tau*torch.ones(n_cat)).to_event()) # Prior for the bias standard deviation\n",
    "        \n",
    "    beta  = pyro.sample(\"beta\", dist.Normal(mu_beta*torch.ones(n_cat), \n",
    "                                            sigma_beta).to_event()) # Priors for the regression coefficents\n",
    "\n",
    "    alpha = pyro.sample(\"alpha\", dist.Normal(torch.zeros(1, n_cat), \n",
    "                                             5.*torch.ones(1, n_cat)).to_event())  # Prior for the bias/intercept\n",
    "    \n",
    "    \n",
    "    with pyro.plate(\"data\"):\n",
    "        y = pyro.sample(\"y\", dist.Categorical(logits=alpha + X.matmul(beta)), obs=obs)\n",
    "        \n",
    "    return y"
   ]
  },
  {
   "cell_type": "code",
   "execution_count": 74,
   "id": "19960313",
   "metadata": {},
   "outputs": [],
   "source": [
    "X_train = torch.tensor(df_train_features).float()\n",
    "y_train = torch.tensor(df_train_target.flatten()).float()"
   ]
  },
  {
   "attachments": {},
   "cell_type": "markdown",
   "id": "08672c0a",
   "metadata": {},
   "source": [
    "#### Final Model training "
   ]
  },
  {
   "cell_type": "code",
   "execution_count": 75,
   "id": "c8b5f00f",
   "metadata": {},
   "outputs": [],
   "source": [
    "degF=4\n",
    "tau=1"
   ]
  },
  {
   "cell_type": "code",
   "execution_count": 76,
   "id": "abd828b1",
   "metadata": {},
   "outputs": [
    {
     "name": "stdout",
     "output_type": "stream",
     "text": [
      "[0] ELBO: 4635.2\n",
      "[1000] ELBO: 2114.3\n",
      "[2000] ELBO: 1804.0\n",
      "[3000] ELBO: 1738.6\n",
      "[4000] ELBO: 1720.4\n",
      "[5000] ELBO: 1726.2\n",
      "[6000] ELBO: 1687.8\n",
      "[7000] ELBO: 1737.0\n",
      "[8000] ELBO: 1701.7\n",
      "[9000] ELBO: 1706.3\n",
      "[10000] ELBO: 1697.6\n",
      "[11000] ELBO: 1709.9\n",
      "[12000] ELBO: 1687.7\n",
      "[13000] ELBO: 1712.0\n",
      "[14000] ELBO: 1674.7\n"
     ]
    }
   ],
   "source": [
    "# Define guide function\n",
    "guide = AutoMultivariateNormal(model)\n",
    "\n",
    "# Reset parameter values\n",
    "pyro.clear_param_store()\n",
    "\n",
    "# Define the number of optimization steps\n",
    "n_steps = 15000\n",
    "\n",
    "# Setup the optimizer\n",
    "adam_params = {\"lr\": 0.001}\n",
    "optimizer = ClippedAdam(adam_params)\n",
    "\n",
    "# Setup the inference algorithm\n",
    "elbo = Trace_ELBO(num_particles=1)\n",
    "svi = SVI(model, guide, optimizer, loss=elbo)\n",
    "\n",
    "# Do gradient steps\n",
    "for step in range(n_steps):\n",
    "    elbo = svi.step(X_train, n_cat, degF, tau, y_train)\n",
    "    if step % 1000 == 0:\n",
    "        print(\"[%d] ELBO: %.1f\" % (step, elbo))"
   ]
  },
  {
   "cell_type": "code",
   "execution_count": 77,
   "id": "4d417140",
   "metadata": {},
   "outputs": [],
   "source": [
    "predictive = Predictive(model, guide=guide, num_samples=2000,\n",
    "                        return_sites=(\"alpha\", \"beta\"))\n",
    "samples = predictive(X_train, n_cat, degF, tau, y_train)"
   ]
  },
  {
   "cell_type": "code",
   "execution_count": 78,
   "id": "d5bbd9b8",
   "metadata": {},
   "outputs": [
    {
     "data": {
      "image/png": "[encoded data removed]",
      "text/plain": [
       "<Figure size 432x288 with 1 Axes>"
      ]
     },
     "metadata": {
      "needs_background": "light"
     },
     "output_type": "display_data"
    }
   ],
   "source": [
    "samples_alpha = samples[\"alpha\"].detach().squeeze()\n",
    "for c in range(n_cat):\n",
    "    sns.histplot(samples_alpha[:,c], kde=True, alpha=0.2)\n",
    "plt.legend([\"alpha%d\" % c for c in range(n_cat)])\n",
    "plt.show()"
   ]
  },
  {
   "cell_type": "code",
   "execution_count": 79,
   "id": "ac55cd34",
   "metadata": {},
   "outputs": [
    {
     "data": {
      "image/png": "[encoded data removed]",
      "text/plain": [
       "<Figure size 432x288 with 1 Axes>"
      ]
     },
     "metadata": {
      "needs_background": "light"
     },
     "output_type": "display_data"
    }
   ],
   "source": [
    "samples_beta = samples[\"beta\"].detach().squeeze()\n",
    "for c in range(1):\n",
    "    sns.histplot(samples_beta[:,c], kde=True, alpha=0.2)\n",
    "plt.legend([\"beta%d\" % int(int(c)+1) for c in range(D)])\n",
    "plt.show()"
   ]
  },
  {
   "cell_type": "code",
   "execution_count": 80,
   "id": "7ff84849",
   "metadata": {},
   "outputs": [],
   "source": [
    "mean_betas = samples_beta.mean(axis=0)\n",
    "mean_betas = mean_betas.T\n",
    "\n",
    "mean_alpha = samples_alpha.mean(axis=0)\n",
    "mean_alpha = mean_alpha.T"
   ]
  },
  {
   "attachments": {},
   "cell_type": "markdown",
   "id": "2b9b143a",
   "metadata": {},
   "source": [
    "### Inference and computation of accuracy on the train dataset "
   ]
  },
  {
   "cell_type": "code",
   "execution_count": 81,
   "id": "5abcc51f",
   "metadata": {},
   "outputs": [],
   "source": [
    "# sample observations (y's)\n",
    "y_train_pred = np.zeros((N_train,n_cat))\n",
    "for n in range(N_train):\n",
    "    \n",
    "    probs = np.zeros(n_cat)\n",
    "    for i in range(n_cat):\n",
    "        probs[i] = np.array([mean_alpha[i]+(np.dot(mean_betas[i,:], df_train_features[n,:]))])\n",
    "        \n",
    "    p =  softmax(probs)\n",
    "    y_train_pred[n,:] = np.argmax(p)  #binomial with one trial is equivalent to bernoulli\n"
   ]
  },
  {
   "cell_type": "code",
   "execution_count": 82,
   "id": "509ea88e",
   "metadata": {},
   "outputs": [],
   "source": [
    "y_train_pred = y_train_pred[:,0]"
   ]
  },
  {
   "cell_type": "code",
   "execution_count": 83,
   "id": "a09dde7d",
   "metadata": {},
   "outputs": [
    {
     "name": "stdout",
     "output_type": "stream",
     "text": [
      "Accuracy: 0.515\n"
     ]
    }
   ],
   "source": [
    "print(\"Accuracy:\", 1.0*np.sum(y_train_pred == df_train_target.flatten()) / len(df_train_target))"
   ]
  },
  {
   "attachments": {},
   "cell_type": "markdown",
   "id": "41b25af2",
   "metadata": {},
   "source": [
    "### Inference and computation of accuracy on the test dataset "
   ]
  },
  {
   "cell_type": "code",
   "execution_count": 84,
   "id": "706abb3b",
   "metadata": {},
   "outputs": [],
   "source": [
    "# sample observations (y's)\n",
    "y_test_pred = np.zeros((N_test,n_cat))\n",
    "for n in range(N_test):\n",
    "    \n",
    "    probs = np.zeros(n_cat)\n",
    "    for i in range(n_cat):\n",
    "        probs[i] = np.array([mean_alpha[i]+(np.dot(mean_betas[i,:], df_test_features[n,:]))])\n",
    "        \n",
    "    p =  softmax(probs)\n",
    "    y_test_pred[n,:] = np.argmax(p)  #binomial with one trial is equivalent to bernoulli\n"
   ]
  },
  {
   "cell_type": "code",
   "execution_count": 85,
   "id": "66db8e8f",
   "metadata": {},
   "outputs": [],
   "source": [
    "y_test_pred = y_test_pred[:,0]"
   ]
  },
  {
   "cell_type": "code",
   "execution_count": 86,
   "id": "45c7ce72",
   "metadata": {},
   "outputs": [
    {
     "name": "stdout",
     "output_type": "stream",
     "text": [
      "Accuracy: 0.46\n"
     ]
    }
   ],
   "source": [
    "print(\"Accuracy:\", 1.0*np.sum(y_test_pred == df_test_target.flatten()) / len(df_test_target))"
   ]
  },
  {
   "attachments": {},
   "cell_type": "markdown",
   "id": "76e67419",
   "metadata": {},
   "source": [
    "\n",
    "DOUBLE CHECK\n",
    "\n",
    "* fillna using KNN inputer \n",
    "* is averaging the betas giving the best result for the predictions \n",
    "* is ancentral sampling correct? \n",
    "* Consider different distributions for priors\n",
    "\n",
    "Done\n",
    "\n",
    "* Have priors for mean and variance for betas and alphas - parameter tuning \n",
    "* Train model on more data - currently 100 \n",
    "\n",
    "TODO\n",
    "\n",
    "* Feature engineer name and album name and retrain logistic regression model using these attributes\n",
    "* Hyper parameter tuning\n",
    "* Extend it with FFNN \n",
    "* Train model on more data (like 10000)"
   ]
  }
 ],
 "metadata": {
  "kernelspec": {
   "display_name": "Python 3 (ipykernel)",
   "language": "python",
   "name": "python3"
  },
  "language_info": {
   "codemirror_mode": {
    "name": "ipython",
    "version": 3
   },
   "file_extension": ".py",
   "mimetype": "text/x-python",
   "name": "python",
   "nbconvert_exporter": "python",
   "pygments_lexer": "ipython3",
   "version": "3.9.15"
  }
 },
 "nbformat": 4,
 "nbformat_minor": 5
}
