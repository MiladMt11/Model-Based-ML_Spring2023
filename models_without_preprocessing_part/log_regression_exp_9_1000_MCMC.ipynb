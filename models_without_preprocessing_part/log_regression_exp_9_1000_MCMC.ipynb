{
 "cells": [
  {
   "cell_type": "code",
   "execution_count": 16,
   "id": "418d51fa",
   "metadata": {},
   "outputs": [],
   "source": [
    "import pandas as pd\n",
    "import numpy as np\n",
    "import seaborn as sns\n",
    "import matplotlib.pyplot as plt\n",
    "\n",
    "from sklearn import linear_model\n",
    "import torch\n",
    "from scipy.special import softmax \n",
    "from sklearn.preprocessing import StandardScaler\n",
    "\n",
    "import pyro\n",
    "import pyro.distributions as dist\n",
    "from pyro.contrib.autoguide import AutoDiagonalNormal, AutoMultivariateNormal\n",
    "from pyro.infer import MCMC, NUTS, HMC, SVI, Trace_ELBO\n",
    "from pyro.optim import Adam, ClippedAdam\n",
    "from pyro.infer import Predictive\n",
    "from sklearn.model_selection import train_test_split\n",
    "\n",
    "from models import model__prior_mu_studentT as model \n",
    "from collections import Counter\n",
    "from pyro.infer import MCMC, NUTS"
   ]
  },
  {
   "cell_type": "markdown",
   "id": "164997a7",
   "metadata": {},
   "source": [
    "### Data Processing"
   ]
  },
  {
   "cell_type": "code",
   "execution_count": 2,
   "id": "486bee3e",
   "metadata": {},
   "outputs": [],
   "source": [
    "scaler = StandardScaler()\n",
    "df = pd.read_pickle('../pickle/df.pkl')"
   ]
  },
  {
   "cell_type": "code",
   "execution_count": 3,
   "id": "4ae02517",
   "metadata": {},
   "outputs": [],
   "source": [
    "df_sampled = df.sample(1400,random_state=47)"
   ]
  },
  {
   "cell_type": "code",
   "execution_count": 4,
   "id": "18a92b4f",
   "metadata": {},
   "outputs": [],
   "source": [
    "df_features = df_sampled.iloc[:,:-1].copy()\n",
    "df_target = df_sampled.iloc[:,-1].copy()"
   ]
  },
  {
   "cell_type": "code",
   "execution_count": 5,
   "id": "71db3a22",
   "metadata": {},
   "outputs": [],
   "source": [
    "df_features = scaler.fit_transform(df_features)"
   ]
  },
  {
   "cell_type": "code",
   "execution_count": 6,
   "id": "3f0fc9d7",
   "metadata": {},
   "outputs": [],
   "source": [
    "df_train_features, df_test_features,df_train_target, df_test_target =  train_test_split(df_features,df_target,stratify=df_target,random_state=47, test_size=1/7)\n",
    "\n",
    "df_train_features, df_val_features,df_train_target, df_val_target =  train_test_split(df_train_features,df_train_target,stratify=df_train_target,random_state=47, test_size=1/6)"
   ]
  },
  {
   "cell_type": "code",
   "execution_count": 7,
   "id": "7e2a8545",
   "metadata": {},
   "outputs": [],
   "source": [
    "df_train_target = df_train_target.to_numpy()\n",
    "df_test_target = df_test_target.to_numpy()\n",
    "df_val_target = df_val_target.to_numpy()"
   ]
  },
  {
   "cell_type": "code",
   "execution_count": 8,
   "id": "8bf8c4c2",
   "metadata": {},
   "outputs": [],
   "source": [
    "D = df_train_features.shape[1]\n",
    "N_train = df_train_features.shape[0]\n",
    "N_test = df_test_features.shape[0]\n",
    "N_val = df_val_features.shape[0]\n",
    "n_cat = 11 \n",
    "degF=4\n",
    "tau=1"
   ]
  },
  {
   "cell_type": "markdown",
   "id": "d1dfc9e9",
   "metadata": {},
   "source": [
    "### Ancestral Sampling "
   ]
  },
  {
   "cell_type": "code",
   "execution_count": 9,
   "id": "62b77aae",
   "metadata": {},
   "outputs": [],
   "source": [
    "def sigmoid(x):\n",
    "    return 1 / (1 + np.exp(-x))"
   ]
  },
  {
   "cell_type": "code",
   "execution_count": 24,
   "id": "d29f4324",
   "metadata": {},
   "outputs": [
    {
     "name": "stdout",
     "output_type": "stream",
     "text": [
      "beta: [-2.13724105  1.37190362  0.88932995 -0.0655204   0.63904618 -0.04616769\n",
      " -0.78128545 -1.2183219   1.15312354 -1.15888934 -0.45003776 -0.95070199\n",
      " -0.03320277  0.03419961]\n"
     ]
    }
   ],
   "source": [
    "# sample coefficients (beta)\n",
    "beta = np.random.normal(0,1,size=D)\n",
    "print(\"beta:\", beta)\n",
    "\n",
    "beta_array = np.zeros((n_cat,D))\n",
    "\n",
    "for i in range(n_cat):\n",
    "    \n",
    "    beta_array[i,:] = np.random.normal(0,1,size=D)\n",
    "    \n",
    "# sample observations (y's)\n",
    "y = np.zeros((N_train,n_cat))\n",
    "for n in range(N_train):\n",
    "    \n",
    "    probs = np.zeros(n_cat)\n",
    "    for i in range(n_cat):\n",
    "        probs[i] = np.array([(np.dot(beta_array[i,:], df_train_features[n,:]))])\n",
    "        \n",
    "    p =  softmax(probs)\n",
    "    y[n,:] = np.random.multinomial(1, p)  #binomial with one trial is equivalent to bernoulli"
   ]
  },
  {
   "cell_type": "code",
   "execution_count": 11,
   "id": "51ce21b1",
   "metadata": {},
   "outputs": [],
   "source": [
    "label_array = np.array([]) \n",
    "for i in y:\n",
    "    label_array = np.append(label_array,np.argmax(i))"
   ]
  },
  {
   "cell_type": "code",
   "execution_count": 12,
   "id": "d126f57e",
   "metadata": {},
   "outputs": [],
   "source": [
    "counts = Counter(label_array)"
   ]
  },
  {
   "cell_type": "code",
   "execution_count": 13,
   "id": "0c36a47e",
   "metadata": {},
   "outputs": [
    {
     "name": "stdout",
     "output_type": "stream",
     "text": [
      "Accuracy: 0.088\n"
     ]
    }
   ],
   "source": [
    "print(\"Accuracy:\", 1.0*np.sum(label_array == df_train_target.flatten()) / len(df_train_target))"
   ]
  },
  {
   "cell_type": "code",
   "execution_count": 14,
   "id": "19960313",
   "metadata": {},
   "outputs": [],
   "source": [
    "X_train = torch.tensor(df_train_features).float()\n",
    "y_train = torch.tensor(df_train_target.flatten()).float()"
   ]
  },
  {
   "cell_type": "markdown",
   "id": "08672c0a",
   "metadata": {},
   "source": [
    "#### Model training "
   ]
  },
  {
   "cell_type": "code",
   "execution_count": 15,
   "id": "c8b5f00f",
   "metadata": {},
   "outputs": [],
   "source": [
    "degF=4\n",
    "tau=1"
   ]
  },
  {
   "cell_type": "code",
   "execution_count": 17,
   "id": "abd828b1",
   "metadata": {},
   "outputs": [
    {
     "name": "stderr",
     "output_type": "stream",
     "text": [
      "Sample: 100%|███████████████████████████████████████| 2500/2500 [20:41,  2.01it/s, step size=3.78e-02, acc. prob=0.822]\n"
     ]
    },
    {
     "name": "stdout",
     "output_type": "stream",
     "text": [
      "\n",
      "                    mean       std    median      5.0%     95.0%     n_eff     r_hat\n",
      "    alpha[0,0]     -3.90      2.01     -3.91     -7.00     -0.58    366.24      1.00\n",
      "    alpha[0,1]      3.28      1.52      3.26      0.74      5.65    211.96      1.00\n",
      "    alpha[0,2]      2.43      1.53      2.39     -0.18      4.78    208.65      1.00\n",
      "    alpha[0,3]     -4.60      2.04     -4.51     -8.20     -1.56    547.59      1.00\n",
      "    alpha[0,4]     -2.09      1.97     -2.05     -5.09      1.39    219.85      1.00\n",
      "    alpha[0,5]      1.79      1.54      1.77     -0.60      4.40    211.09      1.00\n",
      "    alpha[0,6]      4.01      1.51      3.99      1.46      6.33    213.32      1.00\n",
      "    alpha[0,7]     -9.42      3.04     -9.23    -14.04     -4.40    272.40      1.00\n",
      "    alpha[0,8]      1.52      1.55      1.48     -1.21      3.85    223.83      1.00\n",
      "    alpha[0,9]      3.59      1.51      3.59      1.07      5.91    220.13      1.00\n",
      "   alpha[0,10]      4.32      1.52      4.29      1.70      6.58    215.24      1.00\n",
      "     beta[0,0]     -0.28      0.45     -0.28     -0.99      0.44     76.06      1.01\n",
      "     beta[0,1]      0.33      0.29      0.32     -0.10      0.88     28.93      1.04\n",
      "     beta[0,2]     -0.32      0.32     -0.35     -0.81      0.28     34.71      1.03\n",
      "     beta[0,3]     -1.44      0.55     -1.42     -2.38     -0.60    104.67      1.02\n",
      "     beta[0,4]      0.58      0.42      0.56     -0.10      1.24     76.68      1.02\n",
      "     beta[0,5]      0.33      0.32      0.32     -0.25      0.83     35.31      1.03\n",
      "     beta[0,6]      0.18      0.30      0.18     -0.35      0.68     28.59      1.03\n",
      "     beta[0,7]      0.11      0.71      0.09     -0.88      1.35    237.61      1.01\n",
      "     beta[0,8]      0.47      0.33      0.46     -0.05      1.02     35.71      1.02\n",
      "     beta[0,9]      0.45      0.30      0.45     -0.03      0.96     33.32      1.03\n",
      "    beta[0,10]      0.46      0.30      0.44     -0.09      0.93     30.52      1.03\n",
      "     beta[1,0]     -0.05      0.51     -0.07     -0.86      0.77     91.66      1.01\n",
      "     beta[1,1]      0.28      0.29      0.27     -0.23      0.75     28.48      1.03\n",
      "     beta[1,2]     -0.06      0.34     -0.06     -0.71      0.44     35.99      1.04\n",
      "     beta[1,3]     -0.00      0.67     -0.02     -1.01      1.27    113.35      1.02\n",
      "     beta[1,4]      0.11      0.53      0.11     -0.86      0.89     89.09      1.03\n",
      "     beta[1,5]      1.67      0.36      1.67      1.10      2.30     58.01      1.01\n",
      "     beta[1,6]      0.34      0.29      0.33     -0.11      0.89     29.75      1.04\n",
      "     beta[1,7]     -0.48      0.81     -0.47     -1.84      0.78    116.22      1.02\n",
      "     beta[1,8]     -0.12      0.33     -0.13     -0.62      0.45     41.38      1.04\n",
      "     beta[1,9]      0.69      0.32      0.68      0.16      1.24     33.60      1.03\n",
      "    beta[1,10]     -0.11      0.30     -0.12     -0.57      0.46     33.20      1.03\n",
      "     beta[2,0]     -1.46      0.71     -1.42     -2.67     -0.41    285.17      1.01\n",
      "     beta[2,1]      0.29      0.29      0.28     -0.22      0.75     28.56      1.03\n",
      "     beta[2,2]     -0.15      0.37     -0.15     -0.88      0.35     46.29      1.03\n",
      "     beta[2,3]      0.75      0.85      0.71     -0.70      2.09    145.87      1.01\n",
      "     beta[2,4]      0.04      0.63      0.04     -0.82      1.24    108.57      1.04\n",
      "     beta[2,5]     -0.02      0.40     -0.03     -0.66      0.64     52.42      1.02\n",
      "     beta[2,6]      0.28      0.30      0.27     -0.25      0.73     29.99      1.03\n",
      "     beta[2,7]     -1.39      1.08     -1.41     -3.17      0.41    726.47      1.00\n",
      "     beta[2,8]      2.24      0.47      2.22      1.49      2.96     69.10      1.01\n",
      "     beta[2,9]     -0.02      0.34     -0.02     -0.60      0.47     40.74      1.02\n",
      "    beta[2,10]      0.44      0.31      0.43     -0.02      1.01     32.70      1.03\n",
      "     beta[3,0]      0.28      0.44      0.26     -0.42      1.01     66.89      1.02\n",
      "     beta[3,1]      0.29      0.29      0.28     -0.18      0.80     28.21      1.03\n",
      "     beta[3,2]      0.31      0.31      0.30     -0.18      0.86     33.81      1.03\n",
      "     beta[3,3]     -0.19      0.50     -0.15     -0.97      0.69     97.15      1.01\n",
      "     beta[3,4]      0.33      0.42      0.32     -0.39      1.04     55.76      1.02\n",
      "     beta[3,5]      0.16      0.33      0.13     -0.40      0.71     34.42      1.03\n",
      "     beta[3,6]      0.29      0.29      0.28     -0.27      0.71     27.74      1.04\n",
      "     beta[3,7]      0.96      0.65      0.98     -0.07      2.03    210.69      1.01\n",
      "     beta[3,8]     -0.13      0.31     -0.14     -0.58      0.47     34.61      1.03\n",
      "     beta[3,9]      0.15      0.30      0.16     -0.37      0.63     33.20      1.03\n",
      "    beta[3,10]      0.26      0.29      0.24     -0.23      0.73     31.64      1.03\n",
      "     beta[4,0]      0.78      0.53      0.79     -0.08      1.65     86.19      1.00\n",
      "     beta[4,1]      0.28      0.29      0.27     -0.25      0.74     27.60      1.04\n",
      "     beta[4,2]      0.17      0.34      0.16     -0.38      0.71     36.87      1.02\n",
      "     beta[4,3]      0.75      0.63      0.71     -0.25      1.83    193.01      1.00\n",
      "     beta[4,4]      0.71      0.49      0.71     -0.08      1.52    118.83      1.00\n",
      "     beta[4,5]      0.65      0.37      0.64      0.05      1.25     53.20      1.01\n",
      "     beta[4,6]      0.23      0.29      0.23     -0.20      0.81     28.14      1.04\n",
      "     beta[4,7]     -0.29      0.65     -0.29     -1.47      0.64    170.52      1.01\n",
      "     beta[4,8]     -0.03      0.38     -0.04     -0.60      0.63     50.11      1.01\n",
      "     beta[4,9]      0.82      0.34      0.79      0.27      1.41     35.31      1.03\n",
      "    beta[4,10]      0.28      0.31      0.26     -0.21      0.82     32.02      1.03\n",
      "     beta[5,0]      0.03      0.46      0.02     -0.66      0.81     69.90      1.02\n",
      "     beta[5,1]      0.32      0.28      0.32     -0.22      0.75     28.85      1.03\n",
      "     beta[5,2]      0.22      0.31      0.21     -0.34      0.70     32.32      1.03\n",
      "     beta[5,3]     -0.16      0.51     -0.17     -0.91      0.78     98.51      1.01\n",
      "     beta[5,4]      0.33      0.49      0.30     -0.47      1.11     97.90      1.01\n",
      "     beta[5,5]     -0.08      0.33     -0.09     -0.63      0.48     31.43      1.03\n",
      "     beta[5,6]      0.27      0.29      0.27     -0.13      0.86     27.80      1.03\n",
      "     beta[5,7]     -1.12      0.58     -1.10     -2.20     -0.28    103.40      1.01\n",
      "     beta[5,8]     -0.06      0.32     -0.09     -0.64      0.44     31.21      1.02\n",
      "     beta[5,9]     -0.15      0.30     -0.17     -0.65      0.40     28.24      1.03\n",
      "    beta[5,10]      0.21      0.30      0.20     -0.31      0.68     27.71      1.03\n",
      "     beta[6,0]     -0.62      0.73     -0.54     -1.73      0.54    177.63      1.02\n",
      "     beta[6,1]      0.29      0.29      0.29     -0.20      0.77     28.47      1.03\n",
      "     beta[6,2]      0.17      0.34      0.16     -0.37      0.76     38.82      1.02\n",
      "     beta[6,3]      0.39      0.60      0.41     -0.56      1.39    170.85      1.00\n",
      "     beta[6,4]     -1.30      0.89     -1.25     -2.75      0.04    293.43      1.01\n",
      "     beta[6,5]      1.12      0.31      1.09      0.65      1.64     31.96      1.03\n",
      "     beta[6,6]      0.30      0.29      0.30     -0.23      0.75     28.34      1.04\n",
      "     beta[6,7]     -1.06      1.22     -0.89     -3.04      0.72    352.15      1.00\n",
      "     beta[6,8]      0.35      0.35      0.33     -0.15      0.99     44.30      1.03\n",
      "     beta[6,9]      0.35      0.31      0.35     -0.14      0.86     32.16      1.03\n",
      "    beta[6,10]      0.10      0.31      0.09     -0.41      0.63     30.11      1.03\n",
      "     beta[7,0]      0.62      0.49      0.60     -0.22      1.36     98.63      1.01\n",
      "     beta[7,1]      0.28      0.29      0.27     -0.21      0.78     28.23      1.03\n",
      "     beta[7,2]      0.70      0.33      0.68      0.19      1.24     42.71      1.02\n",
      "     beta[7,3]      2.20      0.70      2.17      1.24      3.57    118.71      1.01\n",
      "     beta[7,4]      0.10      0.52      0.11     -0.79      0.93     73.72      1.02\n",
      "     beta[7,5]     -0.02      0.38     -0.04     -0.65      0.56     49.94      1.01\n",
      "     beta[7,6]      0.29      0.29      0.28     -0.13      0.85     29.63      1.03\n",
      "     beta[7,7]      0.42      0.76      0.44     -0.78      1.67    314.00      1.01\n",
      "     beta[7,8]     -0.63      0.48     -0.62     -1.39      0.17     84.12      1.01\n",
      "     beta[7,9]      0.60      0.32      0.59      0.06      1.12     35.01      1.03\n",
      "    beta[7,10]      0.03      0.30      0.03     -0.48      0.49     35.75      1.03\n",
      "     beta[8,0]     -1.21      0.61     -1.19     -2.31     -0.29    260.03      1.01\n",
      "     beta[8,1]      0.29      0.29      0.29     -0.12      0.87     28.07      1.03\n",
      "     beta[8,2]     -0.21      0.35     -0.23     -0.79      0.33     34.20      1.04\n",
      "     beta[8,3]     -0.58      0.57     -0.54     -1.51      0.38    158.90      1.01\n",
      "     beta[8,4]     -0.17      0.53     -0.14     -1.04      0.66    114.65      1.01\n",
      "     beta[8,5]      0.48      0.33      0.45     -0.09      0.98     37.88      1.03\n",
      "     beta[8,6]      0.39      0.30      0.37     -0.08      0.90     29.92      1.04\n",
      "     beta[8,7]      1.82      0.61      1.81      0.86      2.78    149.84      1.01\n",
      "     beta[8,8]      0.27      0.32      0.26     -0.22      0.80     33.31      1.03\n",
      "     beta[8,9]      0.04      0.33      0.03     -0.48      0.60     31.82      1.04\n",
      "    beta[8,10]     -0.03      0.31     -0.04     -0.54      0.50     29.26      1.04\n",
      "     beta[9,0]     -0.00      0.46      0.01     -0.79      0.69     67.27      1.01\n",
      "     beta[9,1]      0.31      0.29      0.30     -0.10      0.88     27.85      1.04\n",
      "     beta[9,2]      0.37      0.30      0.36     -0.07      0.93     34.07      1.03\n",
      "     beta[9,3]     -0.06      0.47     -0.05     -0.87      0.63     82.01      1.02\n",
      "     beta[9,4]      0.15      0.42      0.16     -0.57      0.80     48.82      1.03\n",
      "     beta[9,5]      0.40      0.32      0.39     -0.19      0.90     35.16      1.02\n",
      "     beta[9,6]      0.23      0.29      0.21     -0.28      0.72     27.98      1.04\n",
      "     beta[9,7]     -0.61      0.90     -0.54     -1.94      0.93    393.76      1.01\n",
      "     beta[9,8]      0.07      0.32      0.06     -0.44      0.61     29.92      1.03\n",
      "     beta[9,9]      0.31      0.30      0.30     -0.19      0.85     29.91      1.03\n",
      "    beta[9,10]      0.31      0.30      0.31     -0.18      0.80     28.72      1.03\n",
      "    beta[10,0]     -0.13      0.49     -0.13     -0.92      0.66     73.70      1.01\n",
      "    beta[10,1]      0.29      0.29      0.28     -0.23      0.77     27.47      1.03\n",
      "    beta[10,2]      1.12      0.35      1.11      0.48      1.65     39.22      1.01\n",
      "    beta[10,3]      0.05      0.57      0.06     -0.83      1.06    141.19      1.00\n",
      "    beta[10,4]      0.10      0.47      0.07     -0.72      0.77     74.34      1.00\n",
      "    beta[10,5]     -0.18      0.36     -0.21     -0.79      0.37     35.50      1.02\n",
      "    beta[10,6]      0.27      0.29      0.26     -0.22      0.76     29.70      1.03\n",
      "    beta[10,7]      0.52      0.76      0.52     -0.70      1.75    326.04      1.00\n",
      "    beta[10,8]     -0.65      0.34     -0.67     -1.24     -0.10     37.96      1.02\n",
      "    beta[10,9]      0.23      0.32      0.21     -0.34      0.72     31.82      1.03\n",
      "   beta[10,10]      0.33      0.31      0.32     -0.20      0.82     30.36      1.03\n",
      "    beta[11,0]      0.53      0.41      0.52     -0.19      1.15     62.33      1.00\n",
      "    beta[11,1]      0.31      0.29      0.30     -0.13      0.85     28.93      1.04\n",
      "    beta[11,2]      0.28      0.31      0.26     -0.25      0.76     38.48      1.03\n",
      "    beta[11,3]     -0.04      0.50     -0.05     -0.79      0.89    113.80      1.01\n",
      "    beta[11,4]      0.27      0.41      0.27     -0.37      0.92     64.52      1.02\n",
      "    beta[11,5]      0.14      0.33      0.15     -0.43      0.64     41.39      1.03\n",
      "    beta[11,6]      0.26      0.29      0.25     -0.27      0.73     28.88      1.04\n",
      "    beta[11,7]     -0.23      0.63     -0.19     -1.22      0.87    172.73      1.00\n",
      "    beta[11,8]      0.23      0.32      0.22     -0.31      0.77     34.40      1.04\n",
      "    beta[11,9]      0.16      0.31      0.14     -0.43      0.64     31.83      1.03\n",
      "   beta[11,10]      0.19      0.30      0.18     -0.26      0.76     29.96      1.03\n",
      "    beta[12,0]     -3.66      0.76     -3.59     -4.77     -2.43    204.21      1.01\n",
      "    beta[12,1]      0.32      0.29      0.31     -0.09      0.88     27.82      1.04\n",
      "    beta[12,2]      0.65      0.33      0.63      0.06      1.15     34.07      1.03\n",
      "    beta[12,3]     -3.56      0.85     -3.51     -4.86     -2.19    252.55      1.02\n",
      "    beta[12,4]     -2.87      0.73     -2.83     -4.12     -1.69    109.47      1.03\n",
      "    beta[12,5]      0.64      0.37      0.62      0.01      1.22     39.81      1.02\n",
      "    beta[12,6]      0.28      0.29      0.27     -0.16      0.85     29.58      1.04\n",
      "    beta[12,7]     -4.75      1.15     -4.67     -6.56     -2.99    205.87      1.00\n",
      "    beta[12,8]      0.67      0.35      0.66      0.08      1.24     36.18      1.02\n",
      "    beta[12,9]     -0.33      0.33     -0.34     -0.91      0.20     30.86      1.03\n",
      "   beta[12,10]      0.49      0.31      0.49     -0.04      1.00     30.36      1.03\n",
      "    beta[13,0]      0.11      0.37      0.11     -0.56      0.67     39.33      1.02\n",
      "    beta[13,1]      0.32      0.29      0.31     -0.20      0.76     29.21      1.04\n",
      "    beta[13,2]      0.04      0.30      0.03     -0.49      0.48     34.99      1.02\n",
      "    beta[13,3]      0.08      0.41      0.08     -0.52      0.80     59.97      1.02\n",
      "    beta[13,4]      0.44      0.44      0.45     -0.32      1.10     80.31      1.01\n",
      "    beta[13,5]      0.18      0.38      0.17     -0.43      0.84     46.15      1.02\n",
      "    beta[13,6]      0.26      0.29      0.25     -0.27      0.71     28.66      1.02\n",
      "    beta[13,7]     -0.10      0.43     -0.10     -0.78      0.64     55.45      1.01\n",
      "    beta[13,8]      0.24      0.34      0.23     -0.32      0.78     33.74      1.03\n",
      "    beta[13,9]      0.10      0.30      0.10     -0.38      0.62     31.31      1.03\n",
      "   beta[13,10]      0.18      0.30      0.17     -0.27      0.75     30.33      1.03\n",
      "    mu_beta[0]     -0.33      0.43     -0.34     -1.05      0.30    101.06      1.02\n",
      "    mu_beta[1]      0.30      0.28      0.29     -0.25      0.72     26.90      1.04\n",
      "    mu_beta[2]      0.23      0.30      0.21     -0.31      0.71     31.93      1.03\n",
      "    mu_beta[3]     -0.12      0.44     -0.14     -0.81      0.58    111.02      1.01\n",
      "    mu_beta[4]     -0.06      0.38     -0.06     -0.69      0.52     58.78      1.02\n",
      "    mu_beta[5]      0.38      0.32      0.36     -0.20      0.87     37.10      1.03\n",
      "    mu_beta[6]      0.28      0.28      0.27     -0.26      0.70     26.88      1.04\n",
      "    mu_beta[7]     -0.37      0.52     -0.34     -1.15      0.50    157.99      1.00\n",
      "    mu_beta[8]      0.20      0.35      0.20     -0.42      0.73     40.56      1.02\n",
      "    mu_beta[9]      0.24      0.29      0.24     -0.23      0.72     31.35      1.03\n",
      "   mu_beta[10]      0.23      0.29      0.23     -0.30      0.68     29.06      1.03\n",
      " sigma_beta[0]      1.28      0.35      1.22      0.79      1.78    521.84      1.00\n",
      " sigma_beta[1]      0.06      0.05      0.05      0.01      0.13     94.20      1.00\n",
      " sigma_beta[2]      0.46      0.13      0.44      0.26      0.65    344.74      1.00\n",
      " sigma_beta[3]      1.40      0.39      1.33      0.78      1.92    556.01      1.00\n",
      " sigma_beta[4]      1.08      0.30      1.03      0.56      1.50    782.62      1.00\n",
      " sigma_beta[5]      0.59      0.15      0.57      0.37      0.81    603.59      1.00\n",
      " sigma_beta[6]      0.10      0.05      0.09      0.01      0.17    121.55      1.01\n",
      " sigma_beta[7]      1.72      0.48      1.65      0.93      2.37    537.96      1.00\n",
      " sigma_beta[8]      0.78      0.20      0.76      0.47      1.12    424.59      1.00\n",
      " sigma_beta[9]      0.38      0.10      0.37      0.23      0.54    953.36      1.00\n",
      "sigma_beta[10]      0.23      0.07      0.22      0.13      0.35    638.01      1.00\n",
      "\n",
      "Number of divergences: 150\n"
     ]
    }
   ],
   "source": [
    "# Run inference in Pyro\n",
    "nuts_kernel = NUTS(model)\n",
    "mcmc = MCMC(nuts_kernel, num_samples=2000, warmup_steps=500, num_chains=1)\n",
    "mcmc.run(X_train, n_cat, degF, tau, y_train)\n",
    "\n",
    "# Show summary of inference results\n",
    "mcmc.summary()\n"
   ]
  },
  {
   "cell_type": "code",
   "execution_count": 23,
   "id": "37f4c6b3",
   "metadata": {},
   "outputs": [
    {
     "name": "stdout",
     "output_type": "stream",
     "text": [
      "Accuracy: 0.47\n"
     ]
    }
   ],
   "source": [
    "posterior_samples = mcmc.get_samples()\n",
    "\n",
    "samples_alpha = posterior_samples['alpha'].detach().squeeze()\n",
    "samples_beta = posterior_samples['beta'].detach().squeeze()\n",
    "    \n",
    "    \n",
    "\n",
    "mean_betas = samples_beta.mean(axis=0)\n",
    "mean_betas = mean_betas.T\n",
    "mean_alpha = samples_alpha.mean(axis=0)\n",
    "mean_alpha = mean_alpha.T\n",
    "\n",
    "    \n",
    "y_val_pred = np.zeros((N_val,n_cat))\n",
    "\n",
    "for n in range(N_val):\n",
    "\n",
    "    probs = np.zeros(n_cat)\n",
    "    \n",
    "    for i in range(n_cat):\n",
    "        probs[i] = np.array([mean_alpha[i]+(np.dot(mean_betas[i,:], df_val_features[n,:]))])\n",
    "\n",
    "    p =  softmax(probs)\n",
    "    y_val_pred[n,:] = np.argmax(p)  #binomial with one trial is equivalent to bernoulli\n",
    "\n",
    "y_val_pred = y_val_pred[:,0]\n",
    "\n",
    "\n",
    "print(\"Accuracy:\", 1.0*np.sum(y_val_pred == df_val_target.flatten()) / len(y_val_pred))"
   ]
  }
 ],
 "metadata": {
  "kernelspec": {
   "display_name": "Python 3 (ipykernel)",
   "language": "python",
   "name": "python3"
  },
  "language_info": {
   "codemirror_mode": {
    "name": "ipython",
    "version": 3
   },
   "file_extension": ".py",
   "mimetype": "text/x-python",
   "name": "python",
   "nbconvert_exporter": "python",
   "pygments_lexer": "ipython3",
   "version": "3.10.0"
  }
 },
 "nbformat": 4,
 "nbformat_minor": 5
}
