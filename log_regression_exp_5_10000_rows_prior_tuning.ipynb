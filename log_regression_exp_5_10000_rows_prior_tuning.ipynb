{
 "cells": [
  {
   "cell_type": "code",
   "execution_count": 1,
   "id": "418d51fa",
   "metadata": {},
   "outputs": [],
   "source": [
    "import pandas as pd\n",
    "import numpy as np\n",
    "import seaborn as sns\n",
    "import matplotlib.pyplot as plt\n",
    "\n",
    "from sklearn import linear_model\n",
    "import torch\n",
    "from scipy.special import softmax \n",
    "from sklearn.preprocessing import StandardScaler\n",
    "\n",
    "import pyro\n",
    "import pyro.distributions as dist\n",
    "from pyro.contrib.autoguide import AutoDiagonalNormal, AutoMultivariateNormal\n",
    "from pyro.infer import MCMC, NUTS, HMC, SVI, Trace_ELBO\n",
    "from pyro.optim import Adam, ClippedAdam\n",
    "from pyro.infer import Predictive\n",
    "from sklearn.model_selection import train_test_split"
   ]
  },
  {
   "cell_type": "markdown",
   "id": "164997a7",
   "metadata": {},
   "source": [
    "### Data Processing"
   ]
  },
  {
   "cell_type": "code",
   "execution_count": 2,
   "id": "486bee3e",
   "metadata": {},
   "outputs": [],
   "source": [
    "scaler = StandardScaler()"
   ]
  },
  {
   "cell_type": "code",
   "execution_count": 3,
   "id": "91bb6ba8",
   "metadata": {},
   "outputs": [],
   "source": [
    "#Use your own local path please!\n",
    "path = \"./Data/\"\n",
    "file_name = [\"train.csv\", \"test.csv\", \"submission.csv\"]\n",
    "df_train = pd.read_csv(path + file_name[0])\n",
    "df_test = pd.read_csv(path + file_name[1])\n",
    "df_submission = pd.read_csv(path + file_name[2])"
   ]
  },
  {
   "cell_type": "code",
   "execution_count": 4,
   "id": "67eee01f",
   "metadata": {},
   "outputs": [],
   "source": [
    "df_train['key'] = df_train['key'].fillna(df_train['key'].mean())"
   ]
  },
  {
   "cell_type": "code",
   "execution_count": 5,
   "id": "b6df99a2",
   "metadata": {},
   "outputs": [],
   "source": [
    "df_train['instrumentalness'] = df_train['instrumentalness'].fillna(df_train['instrumentalness'].mean())"
   ]
  },
  {
   "cell_type": "code",
   "execution_count": 6,
   "id": "18d897c6",
   "metadata": {},
   "outputs": [],
   "source": [
    "df_train['Popularity'] = df_train['Popularity'].fillna(df_train['Popularity'].mean())"
   ]
  },
  {
   "cell_type": "code",
   "execution_count": 7,
   "id": "b0555d1e",
   "metadata": {},
   "outputs": [],
   "source": [
    "df = df_train.drop(['Artist Name','Track Name'],axis=1).copy()"
   ]
  },
  {
   "cell_type": "code",
   "execution_count": 8,
   "id": "2a52e3d7",
   "metadata": {},
   "outputs": [],
   "source": [
    "df_sampled = df.sample(1400,random_state=47)"
   ]
  },
  {
   "cell_type": "code",
   "execution_count": 9,
   "id": "b38af423",
   "metadata": {},
   "outputs": [],
   "source": [
    "df_features = df_sampled.iloc[:,:-1].copy()\n",
    "df_target = df_sampled.iloc[:,-1].copy()"
   ]
  },
  {
   "cell_type": "code",
   "execution_count": 10,
   "id": "0c021d47",
   "metadata": {},
   "outputs": [],
   "source": [
    "df_features = scaler.fit_transform(df_features)"
   ]
  },
  {
   "cell_type": "code",
   "execution_count": 11,
   "id": "46ac65bb",
   "metadata": {},
   "outputs": [],
   "source": [
    "df_train_features, df_test_features,df_train_target, df_test_target =  train_test_split(df_features,df_target,stratify=df_target,random_state=47, test_size=1/7)\n",
    "\n",
    "df_train_features, df_val_features,df_train_target, df_val_target =  train_test_split(df_train_features,df_train_target,stratify=df_train_target,random_state=47, test_size=1/6)"
   ]
  },
  {
   "cell_type": "code",
   "execution_count": 12,
   "id": "839189b4",
   "metadata": {},
   "outputs": [],
   "source": [
    "df_train_target = df_train_target.to_numpy()\n",
    "df_test_target = df_test_target.to_numpy()\n",
    "df_val_target = df_val_target.to_numpy()"
   ]
  },
  {
   "cell_type": "code",
   "execution_count": 13,
   "id": "8bf8c4c2",
   "metadata": {},
   "outputs": [],
   "source": [
    "D = df_train_features.shape[1]\n",
    "N_train = df_train_features.shape[0]\n",
    "N_test = df_test_features.shape[0]\n",
    "N_val = df_val_features.shape[0]\n",
    "n_cat = 11 \n",
    "degF=4\n",
    "tau=1"
   ]
  },
  {
   "cell_type": "markdown",
   "id": "d1dfc9e9",
   "metadata": {},
   "source": [
    "### Ancestral Sampling "
   ]
  },
  {
   "cell_type": "code",
   "execution_count": 14,
   "id": "62b77aae",
   "metadata": {},
   "outputs": [],
   "source": [
    "def sigmoid(x):\n",
    "    return 1 / (1 + np.exp(-x))"
   ]
  },
  {
   "cell_type": "code",
   "execution_count": 15,
   "id": "d29f4324",
   "metadata": {},
   "outputs": [
    {
     "name": "stdout",
     "output_type": "stream",
     "text": [
      "beta: [ 0.87819955 -0.17320507  1.41458507 -0.85492629 -0.27595589 -0.73255925\n",
      " -0.03886857  0.85538546 -0.69623123 -1.21591918 -0.07141814 -0.57161603\n",
      "  1.72430388  1.14927008]\n"
     ]
    }
   ],
   "source": [
    "# sample coefficients (beta)\n",
    "beta = np.random.normal(0,1,size=D)\n",
    "print(\"beta:\", beta)\n",
    "\n",
    "beta_array = np.zeros((n_cat,D))\n",
    "\n",
    "for i in range(n_cat):\n",
    "    \n",
    "    beta_array[i,:] = np.random.normal(0,1,size=D)\n",
    "    \n",
    "# sample observations (y's)\n",
    "y = np.zeros((N_train,n_cat))\n",
    "for n in range(N_train):\n",
    "    \n",
    "    probs = np.zeros(n_cat)\n",
    "    for i in range(n_cat):\n",
    "        probs[i] = np.array([(np.dot(beta_array[i,:], df_train_features[n,:]))])\n",
    "        \n",
    "    p =  softmax(probs)\n",
    "    y[n,:] = np.random.multinomial(1, p)  #binomial with one trial is equivalent to bernoulli\n",
    "    #y[n] = int(p > 0.5) # alternative version without observation noise\n",
    "    #print(\" p=, y[n]=\"  (n, p, y[n,:]))\n",
    "    #print('n, p and y ', n, p, y[n,:])"
   ]
  },
  {
   "cell_type": "code",
   "execution_count": 16,
   "id": "51ce21b1",
   "metadata": {},
   "outputs": [],
   "source": [
    "label_array = np.array([]) \n",
    "for i in y:\n",
    "    label_array = np.append(label_array,np.argmax(i))\n"
   ]
  },
  {
   "cell_type": "code",
   "execution_count": 17,
   "id": "d126f57e",
   "metadata": {},
   "outputs": [
    {
     "data": {
      "text/plain": [
       "Counter({9.0: 145,\n",
       "         4.0: 66,\n",
       "         6.0: 78,\n",
       "         0.0: 155,\n",
       "         10.0: 75,\n",
       "         2.0: 73,\n",
       "         1.0: 163,\n",
       "         3.0: 75,\n",
       "         8.0: 65,\n",
       "         7.0: 77,\n",
       "         5.0: 28})"
      ]
     },
     "execution_count": 17,
     "metadata": {},
     "output_type": "execute_result"
    }
   ],
   "source": [
    "from collections import Counter\n",
    "\n",
    "counts = Counter(label_array)\n",
    "counts"
   ]
  },
  {
   "cell_type": "code",
   "execution_count": 18,
   "id": "0c36a47e",
   "metadata": {},
   "outputs": [
    {
     "name": "stdout",
     "output_type": "stream",
     "text": [
      "Accuracy: 0.065\n"
     ]
    }
   ],
   "source": [
    "print(\"Accuracy:\", 1.0*np.sum(label_array == df_train_target.flatten()) / len(df_train_target))"
   ]
  },
  {
   "cell_type": "markdown",
   "id": "e0ff3efc",
   "metadata": {},
   "source": [
    "### Model implementation with Pyro"
   ]
  },
  {
   "cell_type": "code",
   "execution_count": 19,
   "id": "a6719dd6",
   "metadata": {},
   "outputs": [],
   "source": [
    "def model(X, n_cat, degF, tau, obs=None):\n",
    "    \n",
    "    input_dim = X.shape[1]\n",
    "    \n",
    "    \n",
    "    mu_beta = pyro.sample(\"mu_beta\", dist.StudentT(df=torch.ones(n_cat)*degF, \n",
    "                                                   loc=torch.zeros(n_cat), \n",
    "                                                   scale=torch.ones(n_cat)).to_event()) # Prior for the bias mean      \n",
    "    sigma_beta  = pyro.sample(\"sigma_beta\",  dist.HalfCauchy(tau*torch.ones(n_cat)).to_event()) # Prior for the bias standard deviation\n",
    "    \n",
    "    beta  = pyro.sample(\"beta\", dist.Normal(mu_beta*torch.ones(n_cat), \n",
    "                                            sigma_beta*torch.ones(input_dim, n_cat)).to_event()) # Priors for the regression coefficents\n",
    "\n",
    "    alpha = pyro.sample(\"alpha\", dist.Normal(torch.zeros(1, n_cat), \n",
    "                                             5.*torch.ones(1, n_cat)).to_event())  # Prior for the bias/intercept\n",
    "    \n",
    "    \n",
    "    with pyro.plate(\"data\"):\n",
    "        y = pyro.sample(\"y\", dist.Categorical(logits=alpha + X.matmul(beta)), obs=obs)\n",
    "        \n",
    "    return y"
   ]
  },
  {
   "cell_type": "code",
   "execution_count": 20,
   "id": "19960313",
   "metadata": {},
   "outputs": [],
   "source": [
    "X_train = torch.tensor(df_train_features).float()\n",
    "y_train = torch.tensor(df_train_target.flatten()).float()"
   ]
  },
  {
   "cell_type": "markdown",
   "id": "08672c0a",
   "metadata": {},
   "source": [
    "#### Final Model training "
   ]
  },
  {
   "cell_type": "code",
   "execution_count": 21,
   "id": "c8b5f00f",
   "metadata": {},
   "outputs": [],
   "source": [
    "degF=4\n",
    "tau=1"
   ]
  },
  {
   "cell_type": "code",
   "execution_count": 23,
   "id": "abd828b1",
   "metadata": {},
   "outputs": [
    {
     "name": "stdout",
     "output_type": "stream",
     "text": [
      "[0] ELBO: 4449.6\n",
      "[1000] ELBO: 1986.1\n",
      "[2000] ELBO: 1725.8\n",
      "[3000] ELBO: 1673.7\n",
      "[4000] ELBO: 1648.7\n",
      "[5000] ELBO: 1641.3\n",
      "[6000] ELBO: 1647.3\n",
      "[7000] ELBO: 1640.8\n",
      "[8000] ELBO: 1642.6\n",
      "[9000] ELBO: 1624.6\n",
      "[10000] ELBO: 1629.3\n",
      "[11000] ELBO: 1632.6\n",
      "[12000] ELBO: 1633.8\n",
      "[13000] ELBO: 1625.3\n",
      "[14000] ELBO: 1625.2\n"
     ]
    }
   ],
   "source": [
    "# Define guide function\n",
    "guide = AutoMultivariateNormal(model)\n",
    "\n",
    "# Reset parameter values\n",
    "pyro.clear_param_store()\n",
    "\n",
    "# Define the number of optimization steps\n",
    "n_steps = 15000\n",
    "\n",
    "# Setup the optimizer\n",
    "adam_params = {\"lr\": 0.001}\n",
    "optimizer = ClippedAdam(adam_params)\n",
    "\n",
    "# Setup the inference algorithm\n",
    "elbo = Trace_ELBO(num_particles=1)\n",
    "svi = SVI(model, guide, optimizer, loss=elbo)\n",
    "\n",
    "# Do gradient steps\n",
    "for step in range(n_steps):\n",
    "    elbo = svi.step(X_train, n_cat, degF, tau, y_train)\n",
    "    if step % 1000 == 0:\n",
    "        print(\"[%d] ELBO: %.1f\" % (step, elbo))"
   ]
  },
  {
   "cell_type": "code",
   "execution_count": 24,
   "id": "4d417140",
   "metadata": {},
   "outputs": [],
   "source": [
    "predictive = Predictive(model, guide=guide, num_samples=2000,\n",
    "                        return_sites=(\"alpha\", \"beta\"))\n",
    "samples = predictive(X_train, n_cat, degF, tau, y_train)"
   ]
  },
  {
   "cell_type": "code",
   "execution_count": 25,
   "id": "d5bbd9b8",
   "metadata": {},
   "outputs": [
    {
     "data": {
      "image/png": "[encoded data removed]",
      "text/plain": [
       "<Figure size 432x288 with 1 Axes>"
      ]
     },
     "metadata": {
      "needs_background": "light"
     },
     "output_type": "display_data"
    }
   ],
   "source": [
    "samples_alpha = samples[\"alpha\"].detach().squeeze()\n",
    "for c in range(n_cat):\n",
    "    sns.histplot(samples_alpha[:,c], kde=True, alpha=0.2)\n",
    "plt.legend([\"alpha%d\" % c for c in range(n_cat)])\n",
    "plt.show()"
   ]
  },
  {
   "cell_type": "code",
   "execution_count": 26,
   "id": "ac55cd34",
   "metadata": {},
   "outputs": [
    {
     "data": {
      "image/png": "[encoded data removed]",
      "text/plain": [
       "<Figure size 432x288 with 1 Axes>"
      ]
     },
     "metadata": {
      "needs_background": "light"
     },
     "output_type": "display_data"
    }
   ],
   "source": [
    "samples_beta = samples[\"beta\"].detach().squeeze()\n",
    "for c in range(1):\n",
    "    sns.histplot(samples_beta[:,c], kde=True, alpha=0.2)\n",
    "plt.legend([\"beta%d\" % int(int(c)+1) for c in range(D)])\n",
    "plt.show()"
   ]
  },
  {
   "cell_type": "code",
   "execution_count": 27,
   "id": "7ff84849",
   "metadata": {},
   "outputs": [
    {
     "name": "stderr",
     "output_type": "stream",
     "text": [
      "C:\\Users\\Nima\\AppData\\Local\\Temp/ipykernel_16524/2012132113.py:5: UserWarning: The use of `x.T` on tensors of dimension other than 2 to reverse their shape is deprecated and it will throw an error in a future release. Consider `x.mT` to transpose batches of matrices or `x.permute(*torch.arange(x.ndim - 1, -1, -1))` to reverse the dimensions of a tensor. (Triggered internally at ..\\aten\\src\\ATen\\native\\TensorShape.cpp:3281.)\n",
      "  mean_alpha = mean_alpha.T\n"
     ]
    }
   ],
   "source": [
    "mean_betas = samples_beta.mean(axis=0)\n",
    "mean_betas = mean_betas.T\n",
    "\n",
    "mean_alpha = samples_alpha.mean(axis=0)\n",
    "mean_alpha = mean_alpha.T"
   ]
  },
  {
   "cell_type": "markdown",
   "id": "2b9b143a",
   "metadata": {},
   "source": [
    "### Inference and computation of accuracy on the train dataset "
   ]
  },
  {
   "cell_type": "code",
   "execution_count": 28,
   "id": "5abcc51f",
   "metadata": {},
   "outputs": [],
   "source": [
    "# sample observations (y's)\n",
    "y_train_pred = np.zeros((N_train,n_cat))\n",
    "for n in range(N_train):\n",
    "    \n",
    "    probs = np.zeros(n_cat)\n",
    "    for i in range(n_cat):\n",
    "        probs[i] = np.array([mean_alpha[i]+(np.dot(mean_betas[i,:], df_train_features[n,:]))])\n",
    "        \n",
    "    p =  softmax(probs)\n",
    "    y_train_pred[n,:] = np.argmax(p)  #binomial with one trial is equivalent to bernoulli\n"
   ]
  },
  {
   "cell_type": "code",
   "execution_count": 29,
   "id": "509ea88e",
   "metadata": {},
   "outputs": [],
   "source": [
    "y_train_pred = y_train_pred[:,0]"
   ]
  },
  {
   "cell_type": "code",
   "execution_count": 30,
   "id": "a09dde7d",
   "metadata": {},
   "outputs": [
    {
     "name": "stdout",
     "output_type": "stream",
     "text": [
      "Accuracy: 0.503\n"
     ]
    }
   ],
   "source": [
    "print(\"Accuracy:\", 1.0*np.sum(y_train_pred == df_train_target.flatten()) / len(df_train_target))"
   ]
  },
  {
   "cell_type": "markdown",
   "id": "41b25af2",
   "metadata": {},
   "source": [
    "### Inference and computation of accuracy on the test dataset "
   ]
  },
  {
   "cell_type": "code",
   "execution_count": 31,
   "id": "706abb3b",
   "metadata": {},
   "outputs": [],
   "source": [
    "# sample observations (y's)\n",
    "y_test_pred = np.zeros((N_test,n_cat))\n",
    "for n in range(N_test):\n",
    "    \n",
    "    probs = np.zeros(n_cat)\n",
    "    for i in range(n_cat):\n",
    "        probs[i] = np.array([mean_alpha[i]+(np.dot(mean_betas[i,:], df_test_features[n,:]))])\n",
    "        \n",
    "    p =  softmax(probs)\n",
    "    y_test_pred[n,:] = np.argmax(p)  #binomial with one trial is equivalent to bernoulli\n"
   ]
  },
  {
   "cell_type": "code",
   "execution_count": 32,
   "id": "66db8e8f",
   "metadata": {},
   "outputs": [],
   "source": [
    "y_test_pred = y_test_pred[:,0]"
   ]
  },
  {
   "cell_type": "code",
   "execution_count": 33,
   "id": "45c7ce72",
   "metadata": {},
   "outputs": [
    {
     "name": "stdout",
     "output_type": "stream",
     "text": [
      "Accuracy: 0.46\n"
     ]
    }
   ],
   "source": [
    "print(\"Accuracy:\", 1.0*np.sum(y_test_pred == df_test_target.flatten()) / len(df_test_target))"
   ]
  },
  {
   "cell_type": "markdown",
   "id": "76e67419",
   "metadata": {},
   "source": [
    "\n",
    "DOUBLE CHECK\n",
    "\n",
    "* fillna using KNN inputer \n",
    "* is averaging the betas giving the best result for the predictions \n",
    "* is ancentral sampling correct? \n",
    "* Consider different distributions for priors\n",
    "\n",
    "Done\n",
    "\n",
    "* Have priors for mean and variance for betas and alphas - parameter tuning \n",
    "* Train model on more data - currently 100 \n",
    "\n",
    "TODO\n",
    "\n",
    "* Feature engineer name and album name and retrain logistic regression model using these attributes\n",
    "* Hyper parameter tuning\n",
    "* Extend it with FFNN \n",
    "* Train model on more data (like 10000)"
   ]
  }
 ],
 "metadata": {
  "kernelspec": {
   "display_name": "Python 3 (ipykernel)",
   "language": "python",
   "name": "python3"
  },
  "language_info": {
   "codemirror_mode": {
    "name": "ipython",
    "version": 3
   },
   "file_extension": ".py",
   "mimetype": "text/x-python",
   "name": "python",
   "nbconvert_exporter": "python",
   "pygments_lexer": "ipython3",
   "version": "3.10.0"
  }
 },
 "nbformat": 4,
 "nbformat_minor": 5
}
